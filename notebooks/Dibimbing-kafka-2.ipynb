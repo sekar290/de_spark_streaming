{
 "cells": [
  {
   "cell_type": "code",
   "execution_count": 1,
   "id": "aa3d2efe-9447-4b55-b7a7-5e3b51762fe8",
   "metadata": {
    "tags": []
   },
   "outputs": [],
   "source": [
    "import json\n",
    "import uuid\n",
    "import os\n",
    "import json\n",
    "from dotenv import load_dotenv\n",
    "from pathlib import Path\n",
    "from kafka import KafkaProducer\n",
    "from faker import Faker\n",
    "from time import sleep"
   ]
  },
  {
   "cell_type": "code",
   "execution_count": 2,
   "id": "f8124ea4-9961-4141-8f61-4b3a31b35beb",
   "metadata": {
    "tags": []
   },
   "outputs": [
    {
     "data": {
      "text/plain": [
       "True"
      ]
     },
     "execution_count": 2,
     "metadata": {},
     "output_type": "execute_result"
    }
   ],
   "source": [
    "dotenv_path = Path('/resources/.env')\n",
    "load_dotenv(dotenv_path=dotenv_path)"
   ]
  },
  {
   "cell_type": "code",
   "execution_count": 3,
   "id": "984cf422-fabd-43a4-8e1e-9771303b556b",
   "metadata": {
    "tags": []
   },
   "outputs": [],
   "source": [
    "kafka_host = os.getenv('DE_KAFKA_HOST')\n",
    "kafka_topic = os.getenv('DE_KAFKA_TOPIC_NAME')\n",
    "kafka_topic_partition = os.getenv('DE_KAFKA_TOPIC_NAME')+\"-2\""
   ]
  },
  {
   "cell_type": "code",
   "execution_count": 4,
   "id": "47d743be-7190-48e0-87c0-5f6ddedff5da",
   "metadata": {
    "tags": []
   },
   "outputs": [],
   "source": [
    "from kafka import KafkaConsumer\n",
    "\n",
    "# To consume latest messages and auto-commit offsets\n",
    "consumer = KafkaConsumer(kafka_topic_partition,\n",
    "                         group_id='dibimbing-group',\n",
    "                         bootstrap_servers=[f'{kafka_host}:9092'])"
   ]
  },
  {
   "cell_type": "code",
   "execution_count": null,
   "id": "47c9f9b3-a5b0-4bd5-93e7-dcf06e99b192",
   "metadata": {
    "tags": []
   },
   "outputs": [
    {
     "name": "stdout",
     "output_type": "stream",
     "text": [
      "test-topic-2:0:11: key=None value=b'{\"emp_id\": \"f9299cb8-4cd8-4fa3-b54b-9b481165d357\", \"employee_name\": \"Jason Blanchard\", \"department\": \"HR\", \"state\": \"FL\", \"salary\": 81068, \"age\": 31, \"bonus\": 63018, \"ts\": 654518861}'\n",
      "test-topic-2:0:12: key=None value=b'{\"emp_id\": \"9ff98742-4161-4445-b10f-0e7a191de50f\", \"employee_name\": \"Laura Williams\", \"department\": \"Marketing\", \"state\": \"NY\", \"salary\": 134211, \"age\": 56, \"bonus\": 5668, \"ts\": 576905864}'\n",
      "test-topic-2:0:13: key=None value=b'{\"emp_id\": \"0e60631e-8872-449d-a691-269ee1cf2fe4\", \"employee_name\": \"Meghan Hill\", \"department\": \"Marketing\", \"state\": \"FL\", \"salary\": 22922, \"age\": 25, \"bonus\": 57185, \"ts\": 257900137}'\n",
      "test-topic-2:0:14: key=None value=b'{\"emp_id\": \"271e853e-2bad-456d-b3d6-27070338d7e3\", \"employee_name\": \"Natasha Santos\", \"department\": \"IT\", \"state\": \"NY\", \"salary\": 57133, \"age\": 51, \"bonus\": 12822, \"ts\": 196840414}'\n",
      "test-topic-2:0:15: key=None value=b'{\"emp_id\": \"6d2cf3fb-026d-4bc5-bde4-0426f90ed1f4\", \"employee_name\": \"James Stein\", \"department\": \"Marketing\", \"state\": \"CA\", \"salary\": 37999, \"age\": 29, \"bonus\": 97825, \"ts\": 1119982677}'\n",
      "test-topic-2:0:16: key=None value=b'{\"emp_id\": \"fc84beb6-3038-49f2-a79d-99130a5819ba\", \"employee_name\": \"Christina Johnson\", \"department\": \"Marketing\", \"state\": \"RJ\", \"salary\": 127698, \"age\": 30, \"bonus\": 5092, \"ts\": 1112060801}'\n",
      "test-topic-2:0:17: key=None value=b'{\"emp_id\": \"22db2a10-06a3-406b-bb9c-c9f3859647a6\", \"employee_name\": \"Robert Molina\", \"department\": \"Marketing\", \"state\": \"TX\", \"salary\": 99374, \"age\": 37, \"bonus\": 1767, \"ts\": 1143207678}'\n",
      "test-topic-2:0:18: key=None value=b'{\"emp_id\": \"cd45e45b-d888-46c2-af86-44ac6c2b3eef\", \"employee_name\": \"Joseph Scott\", \"department\": \"HR\", \"state\": \"CA\", \"salary\": 27930, \"age\": 53, \"bonus\": 79499, \"ts\": 734396055}'\n",
      "test-topic-2:0:19: key=None value=b'{\"emp_id\": \"97a87ab5-843f-4e59-b83c-a105b9208589\", \"employee_name\": \"Craig Mccormick\", \"department\": \"IT\", \"state\": \"IL\", \"salary\": 78378, \"age\": 44, \"bonus\": 19413, \"ts\": 831141463}'\n",
      "test-topic-2:0:20: key=None value=b'{\"emp_id\": \"68de83a5-a0ae-4f0e-9aa3-e97fab4b83bc\", \"employee_name\": \"Michelle Mcdonald\", \"department\": \"Marketing\", \"state\": \"CA\", \"salary\": 43682, \"age\": 25, \"bonus\": 7086, \"ts\": 661129583}'\n",
      "test-topic-2:0:21: key=None value=b'{\"emp_id\": \"35fc355f-7d74-406b-85d2-df61b6e35866\", \"employee_name\": \"Tracy Thompson\", \"department\": \"Marketing\", \"state\": \"TX\", \"salary\": 73631, \"age\": 32, \"bonus\": 71425, \"ts\": 990456042}'\n",
      "test-topic-2:0:22: key=None value=b'{\"emp_id\": \"6a272c2f-3cbe-438f-a84b-8c76d98a587e\", \"employee_name\": \"Kevin Carrillo\", \"department\": \"HR\", \"state\": \"FL\", \"salary\": 17440, \"age\": 56, \"bonus\": 78648, \"ts\": 1159764319}'\n",
      "test-topic-2:0:23: key=None value=b'{\"emp_id\": \"4d6a7e03-811f-47df-9edb-4256c95997c8\", \"employee_name\": \"Roger Hernandez\", \"department\": \"Sales\", \"state\": \"FL\", \"salary\": 26848, \"age\": 32, \"bonus\": 40051, \"ts\": 912988200}'\n",
      "test-topic-2:0:24: key=None value=b'{\"emp_id\": \"eaf29346-87c0-4fa6-b6bd-01e2f3d4cf28\", \"employee_name\": \"Shannon Carpenter\", \"department\": \"HR\", \"state\": \"TX\", \"salary\": 141913, \"age\": 55, \"bonus\": 17898, \"ts\": 741426379}'\n",
      "test-topic-2:0:25: key=None value=b'{\"emp_id\": \"f0d7207b-d26f-40a2-aae2-a828520353b3\", \"employee_name\": \"Richard Moore\", \"department\": \"Marketing\", \"state\": \"RJ\", \"salary\": 28858, \"age\": 38, \"bonus\": 60937, \"ts\": 221161011}'\n",
      "test-topic-2:0:26: key=None value=b'{\"emp_id\": \"6728a233-d494-4dd3-bfb2-58e6bd96f6a1\", \"employee_name\": \"David Rubio\", \"department\": \"Marketing\", \"state\": \"TX\", \"salary\": 16336, \"age\": 50, \"bonus\": 69341, \"ts\": 284426494}'\n",
      "test-topic-2:0:27: key=None value=b'{\"emp_id\": \"3a56d598-ee28-4260-b351-9af06e5107ac\", \"employee_name\": \"Andrew Maldonado\", \"department\": \"Sales\", \"state\": \"TX\", \"salary\": 68792, \"age\": 29, \"bonus\": 69018, \"ts\": 91635219}'\n",
      "test-topic-2:0:28: key=None value=b'{\"emp_id\": \"b00acb7d-6751-4bff-b666-b17d1bd962b0\", \"employee_name\": \"Joseph Silva\", \"department\": \"IT\", \"state\": \"CA\", \"salary\": 119352, \"age\": 18, \"bonus\": 20326, \"ts\": 855708635}'\n",
      "test-topic-2:0:29: key=None value=b'{\"emp_id\": \"7902341e-d0f2-438a-b9bd-2241482967f3\", \"employee_name\": \"Rebecca Sampson\", \"department\": \"HR\", \"state\": \"FL\", \"salary\": 140856, \"age\": 42, \"bonus\": 71858, \"ts\": 343473905}'\n",
      "test-topic-2:0:30: key=None value=b'{\"emp_id\": \"3d4d0551-ef0b-47fa-85ee-cbb6aadaa6bd\", \"employee_name\": \"Brandon Williams\", \"department\": \"Sales\", \"state\": \"CA\", \"salary\": 69273, \"age\": 53, \"bonus\": 75490, \"ts\": 203155012}'\n",
      "test-topic-2:0:31: key=None value=b'{\"emp_id\": \"12f5d399-1ce3-44f8-88be-90e41586df15\", \"employee_name\": \"Noah Barton\", \"department\": \"Marketing\", \"state\": \"IL\", \"salary\": 96202, \"age\": 47, \"bonus\": 46394, \"ts\": 561166863}'\n",
      "test-topic-2:0:32: key=None value=b'{\"emp_id\": \"c1db27c4-deb5-4d90-b12d-97f6ddf3031e\", \"employee_name\": \"Mackenzie Cruz\", \"department\": \"Sales\", \"state\": \"CA\", \"salary\": 142296, \"age\": 56, \"bonus\": 15083, \"ts\": 1297038055}'\n",
      "test-topic-2:0:33: key=None value=b'{\"emp_id\": \"68480207-cbec-4f02-a02d-1ac18407725f\", \"employee_name\": \"Jennifer Delgado\", \"department\": \"IT\", \"state\": \"TX\", \"salary\": 99493, \"age\": 45, \"bonus\": 74345, \"ts\": 119802156}'\n",
      "test-topic-2:0:34: key=None value=b'{\"emp_id\": \"7aeb94f0-14ee-43cc-8865-98d7f58d3a65\", \"employee_name\": \"Joshua Bailey\", \"department\": \"Marketing\", \"state\": \"CA\", \"salary\": 122577, \"age\": 58, \"bonus\": 67128, \"ts\": 842689288}'\n",
      "test-topic-2:0:35: key=None value=b'{\"emp_id\": \"d759785a-b059-438a-9d49-5ada22f036cd\", \"employee_name\": \"Thomas Carroll\", \"department\": \"Sales\", \"state\": \"TX\", \"salary\": 139099, \"age\": 23, \"bonus\": 34502, \"ts\": 563647215}'\n",
      "test-topic-2:0:36: key=None value=b'{\"emp_id\": \"a336170f-8e5a-4ea8-b586-db806cccbfce\", \"employee_name\": \"Larry Osborne\", \"department\": \"IT\", \"state\": \"FL\", \"salary\": 72546, \"age\": 27, \"bonus\": 74785, \"ts\": 826411101}'\n",
      "test-topic-2:0:37: key=None value=b'{\"emp_id\": \"0a5def50-80da-4da7-aa85-58b46eaeb4f3\", \"employee_name\": \"Brianna Giles\", \"department\": \"HR\", \"state\": \"NY\", \"salary\": 18515, \"age\": 55, \"bonus\": 66741, \"ts\": 420369000}'\n",
      "test-topic-2:0:38: key=None value=b'{\"emp_id\": \"c3991a02-7145-439d-b329-9a17053113f9\", \"employee_name\": \"Catherine Ashley\", \"department\": \"Sales\", \"state\": \"FL\", \"salary\": 84304, \"age\": 48, \"bonus\": 35260, \"ts\": 310077716}'\n",
      "test-topic-2:0:39: key=None value=b'{\"emp_id\": \"b7afc889-869f-4f3a-903e-d1e300e167bc\", \"employee_name\": \"Donna Garrett\", \"department\": \"IT\", \"state\": \"NY\", \"salary\": 84553, \"age\": 24, \"bonus\": 95299, \"ts\": 755733896}'\n",
      "test-topic-2:0:40: key=None value=b'{\"emp_id\": \"3300c309-8748-4b59-bad7-a3f2a594c952\", \"employee_name\": \"Pamela Kim\", \"department\": \"Marketing\", \"state\": \"IL\", \"salary\": 35367, \"age\": 18, \"bonus\": 6232, \"ts\": 867177089}'\n",
      "test-topic-2:0:41: key=None value=b'{\"emp_id\": \"bf565eee-a7e5-499d-957e-1becd362007b\", \"employee_name\": \"Juan Drake Jr.\", \"department\": \"HR\", \"state\": \"TX\", \"salary\": 93580, \"age\": 60, \"bonus\": 40982, \"ts\": 1046400103}'\n",
      "test-topic-2:0:42: key=None value=b'{\"emp_id\": \"15e82967-fb43-4570-a5ca-e92caf0e0d4e\", \"employee_name\": \"Hannah Beck\", \"department\": \"HR\", \"state\": \"FL\", \"salary\": 34862, \"age\": 22, \"bonus\": 82020, \"ts\": 487239548}'\n",
      "test-topic-2:0:43: key=None value=b'{\"emp_id\": \"7f3b5138-84f4-477c-ac41-e6de78fa7351\", \"employee_name\": \"Michelle Smith\", \"department\": \"IT\", \"state\": \"TX\", \"salary\": 106152, \"age\": 50, \"bonus\": 68531, \"ts\": 116284548}'\n",
      "test-topic-2:0:44: key=None value=b'{\"emp_id\": \"c5e07bb5-2ca1-473a-b941-9eee7526cc77\", \"employee_name\": \"Martin Lewis\", \"department\": \"Marketing\", \"state\": \"TX\", \"salary\": 73838, \"age\": 57, \"bonus\": 52574, \"ts\": 55023126}'\n",
      "test-topic-2:0:45: key=None value=b'{\"emp_id\": \"5b6a512f-dcf8-4c69-8766-d993f8b476f2\", \"employee_name\": \"Rachel Casey\", \"department\": \"Marketing\", \"state\": \"CA\", \"salary\": 24886, \"age\": 50, \"bonus\": 24497, \"ts\": 479314644}'\n",
      "test-topic-2:0:46: key=None value=b'{\"emp_id\": \"40fbbce8-2664-4b6b-bb81-4cdc759311ab\", \"employee_name\": \"Jennifer Frye\", \"department\": \"Sales\", \"state\": \"IL\", \"salary\": 51094, \"age\": 55, \"bonus\": 9315, \"ts\": 1304500623}'\n",
      "test-topic-2:0:47: key=None value=b'{\"emp_id\": \"ee5937d6-d362-4f13-b5c1-9dfd91aba1e4\", \"employee_name\": \"Brian Gonzalez\", \"department\": \"HR\", \"state\": \"NY\", \"salary\": 133491, \"age\": 30, \"bonus\": 88158, \"ts\": 594336272}'\n",
      "test-topic-2:0:48: key=None value=b'{\"emp_id\": \"938dd3fb-df42-4107-b25d-040384c24602\", \"employee_name\": \"Dennis Levy\", \"department\": \"HR\", \"state\": \"RJ\", \"salary\": 16405, \"age\": 28, \"bonus\": 69713, \"ts\": 506913336}'\n",
      "test-topic-2:0:49: key=None value=b'{\"emp_id\": \"ec3bdae3-ea27-4f0c-8665-7b3aa0aca5c0\", \"employee_name\": \"Tiffany Mcbride\", \"department\": \"Marketing\", \"state\": \"NY\", \"salary\": 71285, \"age\": 36, \"bonus\": 86390, \"ts\": 325620531}'\n",
      "test-topic-2:0:50: key=None value=b'{\"emp_id\": \"0cf6adb7-c254-43df-9001-6260b410b40c\", \"employee_name\": \"Amber Franklin\", \"department\": \"Sales\", \"state\": \"FL\", \"salary\": 78636, \"age\": 59, \"bonus\": 40618, \"ts\": 288596066}'\n",
      "test-topic-2:0:51: key=None value=b'{\"emp_id\": \"a0c0f9b5-741b-4fd5-a4b5-dfc3990dda05\", \"employee_name\": \"Joanna Wilson\", \"department\": \"Sales\", \"state\": \"FL\", \"salary\": 13779, \"age\": 49, \"bonus\": 72962, \"ts\": 46824905}'\n",
      "test-topic-2:0:52: key=None value=b'{\"emp_id\": \"3044c724-d70c-4226-a8ff-fe247e7d00ee\", \"employee_name\": \"James Williams\", \"department\": \"Sales\", \"state\": \"TX\", \"salary\": 21065, \"age\": 37, \"bonus\": 26291, \"ts\": 776731090}'\n",
      "test-topic-2:0:53: key=None value=b'{\"emp_id\": \"bed695e8-fda8-4de0-ae6f-be59e228ca4c\", \"employee_name\": \"Erika Hernandez\", \"department\": \"Marketing\", \"state\": \"IL\", \"salary\": 133318, \"age\": 51, \"bonus\": 89430, \"ts\": 60764253}'\n",
      "test-topic-2:0:54: key=None value=b'{\"emp_id\": \"39d193a6-7813-48c2-8cba-821c5ff75108\", \"employee_name\": \"Frances Ritter\", \"department\": \"Marketing\", \"state\": \"RJ\", \"salary\": 136675, \"age\": 35, \"bonus\": 71209, \"ts\": 171308962}'\n",
      "test-topic-2:0:55: key=None value=b'{\"emp_id\": \"73f07a50-981c-4c7d-90b2-84b690a02eaa\", \"employee_name\": \"James Blair\", \"department\": \"Marketing\", \"state\": \"CA\", \"salary\": 24611, \"age\": 51, \"bonus\": 78638, \"ts\": 1185185278}'\n",
      "test-topic-2:0:56: key=None value=b'{\"emp_id\": \"27987196-89a2-42f8-bfbe-7c24299928ec\", \"employee_name\": \"Shelby York\", \"department\": \"HR\", \"state\": \"RJ\", \"salary\": 87236, \"age\": 56, \"bonus\": 30679, \"ts\": 1313687262}'\n",
      "test-topic-2:0:57: key=None value=b'{\"emp_id\": \"50e9e7e1-9520-411e-a915-2942f04eeabb\", \"employee_name\": \"Tiffany Hill\", \"department\": \"Marketing\", \"state\": \"CA\", \"salary\": 74378, \"age\": 20, \"bonus\": 46782, \"ts\": 854283508}'\n",
      "test-topic-2:0:58: key=None value=b'{\"emp_id\": \"f0648f4c-61df-431f-9bde-a549e3e58e61\", \"employee_name\": \"Haley Diaz\", \"department\": \"Marketing\", \"state\": \"NY\", \"salary\": 55666, \"age\": 42, \"bonus\": 85931, \"ts\": 648116355}'\n",
      "test-topic-2:0:59: key=None value=b'{\"emp_id\": \"d97f2320-5a20-4dd8-bc6b-1f67c0394430\", \"employee_name\": \"Jessica Holland\", \"department\": \"Marketing\", \"state\": \"RJ\", \"salary\": 56674, \"age\": 33, \"bonus\": 12748, \"ts\": 708566458}'\n",
      "test-topic-2:0:60: key=None value=b'{\"emp_id\": \"b0e50965-7e02-4e47-841e-c05c4dbab93f\", \"employee_name\": \"John Berry\", \"department\": \"Marketing\", \"state\": \"FL\", \"salary\": 105249, \"age\": 58, \"bonus\": 93798, \"ts\": 100933006}'\n",
      "test-topic-2:0:61: key=None value=b'{\"emp_id\": \"7ad4e05a-ef8d-4e21-b42b-3fd443677b9e\", \"employee_name\": \"Pamela Mckee\", \"department\": \"IT\", \"state\": \"RJ\", \"salary\": 122415, \"age\": 22, \"bonus\": 74774, \"ts\": 878493679}'\n",
      "test-topic-2:0:62: key=None value=b'{\"emp_id\": \"32da792a-de2d-42d3-b49a-70d67ac0f70d\", \"employee_name\": \"Brittany Thomas\", \"department\": \"Marketing\", \"state\": \"RJ\", \"salary\": 17169, \"age\": 51, \"bonus\": 65109, \"ts\": 1217469909}'\n",
      "test-topic-2:0:63: key=None value=b'{\"emp_id\": \"b032ab5b-29b6-48c5-87c8-a96c6d1674f0\", \"employee_name\": \"Bryan Ramirez\", \"department\": \"IT\", \"state\": \"RJ\", \"salary\": 107931, \"age\": 59, \"bonus\": 49045, \"ts\": 209782430}'\n",
      "test-topic-2:0:64: key=None value=b'{\"emp_id\": \"61d0b0c0-82bd-4cf6-8567-de3b4181a6d3\", \"employee_name\": \"Melissa Smith\", \"department\": \"Marketing\", \"state\": \"NY\", \"salary\": 14135, \"age\": 43, \"bonus\": 9886, \"ts\": 1651254597}'\n",
      "test-topic-2:0:65: key=None value=b'{\"emp_id\": \"c1298065-f750-42ee-a0f6-2d8f424ed877\", \"employee_name\": \"Nathaniel Escobar\", \"department\": \"IT\", \"state\": \"CA\", \"salary\": 149578, \"age\": 51, \"bonus\": 66448, \"ts\": 660161011}'\n",
      "test-topic-2:0:66: key=None value=b'{\"emp_id\": \"adeb4018-73c4-4989-a647-a663e55507c9\", \"employee_name\": \"Gregory Nelson\", \"department\": \"Sales\", \"state\": \"NY\", \"salary\": 61019, \"age\": 39, \"bonus\": 87612, \"ts\": 1411940098}'\n",
      "test-topic-2:0:67: key=None value=b'{\"emp_id\": \"a7940b76-47ad-4543-9dda-a759cd1d9b6d\", \"employee_name\": \"Christina Mann\", \"department\": \"Marketing\", \"state\": \"IL\", \"salary\": 140273, \"age\": 46, \"bonus\": 16669, \"ts\": 899267252}'\n",
      "test-topic-2:0:68: key=None value=b'{\"emp_id\": \"311dc74a-e847-47b1-8878-fc80c5505125\", \"employee_name\": \"Daniel Williams\", \"department\": \"IT\", \"state\": \"RJ\", \"salary\": 45636, \"age\": 29, \"bonus\": 80941, \"ts\": 1044356459}'\n",
      "test-topic-2:0:69: key=None value=b'{\"emp_id\": \"699e3ae3-5277-4a3b-95ba-3292e49165de\", \"employee_name\": \"John Acosta\", \"department\": \"Sales\", \"state\": \"NY\", \"salary\": 58253, \"age\": 25, \"bonus\": 70867, \"ts\": 521599526}'\n",
      "test-topic-2:0:70: key=None value=b'{\"emp_id\": \"a46317d7-bfb3-44e6-a1c8-2bd6d1c0be9f\", \"employee_name\": \"Joshua Green\", \"department\": \"HR\", \"state\": \"RJ\", \"salary\": 51116, \"age\": 19, \"bonus\": 79458, \"ts\": 897312576}'\n",
      "test-topic-2:0:71: key=None value=b'{\"emp_id\": \"4a5c4f07-bfcf-42b1-9d7d-2d983663241d\", \"employee_name\": \"Stephen Christensen\", \"department\": \"IT\", \"state\": \"CA\", \"salary\": 95753, \"age\": 19, \"bonus\": 66066, \"ts\": 604096042}'\n",
      "test-topic-2:0:72: key=None value=b'{\"emp_id\": \"0cd262f4-ccf3-4ef2-95fc-fab821e8c02e\", \"employee_name\": \"Jonathon Thompson DDS\", \"department\": \"IT\", \"state\": \"IL\", \"salary\": 110539, \"age\": 46, \"bonus\": 77981, \"ts\": 402544410}'\n",
      "test-topic-2:0:73: key=None value=b'{\"emp_id\": \"f82b3816-651c-4351-836a-e192503a8af1\", \"employee_name\": \"Steven Craig\", \"department\": \"HR\", \"state\": \"CA\", \"salary\": 26116, \"age\": 24, \"bonus\": 27294, \"ts\": 615857297}'\n",
      "test-topic-2:0:74: key=None value=b'{\"emp_id\": \"77fb1604-9602-4a1f-bdef-93dbf585e449\", \"employee_name\": \"Latoya Bullock\", \"department\": \"IT\", \"state\": \"RJ\", \"salary\": 16480, \"age\": 56, \"bonus\": 3360, \"ts\": 176426415}'\n",
      "test-topic-2:0:75: key=None value=b'{\"emp_id\": \"3b519008-22da-4b33-bd80-092a80b44842\", \"employee_name\": \"Wayne Crawford\", \"department\": \"IT\", \"state\": \"CA\", \"salary\": 113830, \"age\": 29, \"bonus\": 60672, \"ts\": 392340794}'\n",
      "test-topic-2:0:76: key=None value=b'{\"emp_id\": \"31d7052e-7a0c-438e-ad90-15bc4a6b7749\", \"employee_name\": \"Grace Gaines\", \"department\": \"HR\", \"state\": \"RJ\", \"salary\": 92115, \"age\": 31, \"bonus\": 66532, \"ts\": 297874427}'\n",
      "test-topic-2:0:77: key=None value=b'{\"emp_id\": \"97788456-0656-465d-8807-ff9ca04b7dfe\", \"employee_name\": \"Donna Marquez\", \"department\": \"IT\", \"state\": \"CA\", \"salary\": 126287, \"age\": 50, \"bonus\": 58051, \"ts\": 862527507}'\n",
      "test-topic-2:0:78: key=None value=b'{\"emp_id\": \"5d1fed3d-5219-4f62-a35f-d1067072c5b2\", \"employee_name\": \"Katherine Pham\", \"department\": \"IT\", \"state\": \"NY\", \"salary\": 87906, \"age\": 41, \"bonus\": 84763, \"ts\": 133478698}'\n",
      "test-topic-2:0:79: key=None value=b'{\"emp_id\": \"c36cc67b-fc57-4524-8758-848446a685b2\", \"employee_name\": \"Lisa Singh\", \"department\": \"IT\", \"state\": \"NY\", \"salary\": 88256, \"age\": 38, \"bonus\": 90922, \"ts\": 931884846}'\n",
      "test-topic-2:0:80: key=None value=b'{\"emp_id\": \"b3c394e9-fc27-483c-b1b0-c015100fab00\", \"employee_name\": \"Phillip Warren\", \"department\": \"HR\", \"state\": \"NY\", \"salary\": 65508, \"age\": 30, \"bonus\": 46087, \"ts\": 204903457}'\n",
      "test-topic-2:0:81: key=None value=b'{\"emp_id\": \"ab0b43ac-e250-4e08-a7a9-8bddc7d53082\", \"employee_name\": \"Robert Stark\", \"department\": \"IT\", \"state\": \"TX\", \"salary\": 100571, \"age\": 38, \"bonus\": 61271, \"ts\": 1067802902}'\n",
      "test-topic-2:0:82: key=None value=b'{\"emp_id\": \"514eeaf0-d358-4be1-83fb-e3b0612d9a41\", \"employee_name\": \"Jennifer Johnson\", \"department\": \"Sales\", \"state\": \"IL\", \"salary\": 82942, \"age\": 54, \"bonus\": 68350, \"ts\": 1416688064}'\n",
      "test-topic-2:0:83: key=None value=b'{\"emp_id\": \"d621afbb-a758-43cb-afc6-504cc06baf29\", \"employee_name\": \"Robert Owens\", \"department\": \"IT\", \"state\": \"NY\", \"salary\": 88796, \"age\": 25, \"bonus\": 27246, \"ts\": 1112583786}'\n",
      "test-topic-2:0:84: key=None value=b'{\"emp_id\": \"363bed41-d322-4f96-8f17-136b19ad24f0\", \"employee_name\": \"Michael Ball\", \"department\": \"Sales\", \"state\": \"RJ\", \"salary\": 105248, \"age\": 59, \"bonus\": 46222, \"ts\": 57771580}'\n",
      "test-topic-2:0:85: key=None value=b'{\"emp_id\": \"821c290f-8e11-40bd-9579-57f192a800cd\", \"employee_name\": \"Robin Armstrong\", \"department\": \"Sales\", \"state\": \"NY\", \"salary\": 100997, \"age\": 55, \"bonus\": 99445, \"ts\": 767186020}'\n",
      "test-topic-2:0:86: key=None value=b'{\"emp_id\": \"9fd58643-7e99-4e42-be65-31dfdca6db8f\", \"employee_name\": \"Wanda Byrd\", \"department\": \"HR\", \"state\": \"CA\", \"salary\": 51287, \"age\": 52, \"bonus\": 85056, \"ts\": 584672421}'\n",
      "test-topic-2:0:87: key=None value=b'{\"emp_id\": \"1987b222-8447-4f68-a7a9-76c9b8e5d5d0\", \"employee_name\": \"Christopher Page\", \"department\": \"HR\", \"state\": \"IL\", \"salary\": 113842, \"age\": 51, \"bonus\": 46532, \"ts\": 206775903}'\n",
      "test-topic-2:0:88: key=None value=b'{\"emp_id\": \"e9235589-fa09-4c88-b589-186deb609d4c\", \"employee_name\": \"Amy Johnson\", \"department\": \"HR\", \"state\": \"FL\", \"salary\": 14032, \"age\": 58, \"bonus\": 90778, \"ts\": 1498414005}'\n",
      "test-topic-2:0:89: key=None value=b'{\"emp_id\": \"4a41928f-3dfa-4a0e-83b9-d3417e689b2e\", \"employee_name\": \"Sonya Berry\", \"department\": \"IT\", \"state\": \"CA\", \"salary\": 86330, \"age\": 29, \"bonus\": 28995, \"ts\": 410924903}'\n",
      "test-topic-2:0:90: key=None value=b'{\"emp_id\": \"e8e59787-ccd7-44c1-b706-64c76cfd57d9\", \"employee_name\": \"Dawn Welch\", \"department\": \"Sales\", \"state\": \"CA\", \"salary\": 75218, \"age\": 21, \"bonus\": 66705, \"ts\": 10715079}'\n",
      "test-topic-2:0:91: key=None value=b'{\"emp_id\": \"8a5c0fbf-8b4c-4b5e-b57e-bfd708041f8b\", \"employee_name\": \"Meagan Freeman\", \"department\": \"Sales\", \"state\": \"NY\", \"salary\": 129080, \"age\": 41, \"bonus\": 61621, \"ts\": 998505237}'\n",
      "test-topic-2:0:92: key=None value=b'{\"emp_id\": \"1d5cea77-def6-43e5-8a8b-c151e7e1ee27\", \"employee_name\": \"Bryan Jones\", \"department\": \"Marketing\", \"state\": \"IL\", \"salary\": 113284, \"age\": 36, \"bonus\": 43328, \"ts\": 544006501}'\n",
      "test-topic-2:0:93: key=None value=b'{\"emp_id\": \"7e964c3b-2710-4096-957a-2b99c0fb2ab2\", \"employee_name\": \"Rachel Roy\", \"department\": \"IT\", \"state\": \"RJ\", \"salary\": 84216, \"age\": 34, \"bonus\": 333, \"ts\": 971781202}'\n",
      "test-topic-2:0:94: key=None value=b'{\"emp_id\": \"bdbead60-dfe8-49e9-a171-6156b556a5f7\", \"employee_name\": \"Valerie Young\", \"department\": \"Sales\", \"state\": \"CA\", \"salary\": 15463, \"age\": 36, \"bonus\": 14032, \"ts\": 858088222}'\n",
      "test-topic-2:0:95: key=None value=b'{\"emp_id\": \"98857ef0-276d-43cb-b437-2e98d58275bb\", \"employee_name\": \"Jennifer Blackwell\", \"department\": \"Marketing\", \"state\": \"RJ\", \"salary\": 60810, \"age\": 40, \"bonus\": 60005, \"ts\": 1574691871}'\n",
      "test-topic-2:0:96: key=None value=b'{\"emp_id\": \"f6f286ad-ea6e-41bc-ab21-0f1e98d897be\", \"employee_name\": \"Corey Leblanc\", \"department\": \"HR\", \"state\": \"RJ\", \"salary\": 81773, \"age\": 33, \"bonus\": 62866, \"ts\": 267250259}'\n",
      "test-topic-2:0:97: key=None value=b'{\"emp_id\": \"3661f18d-2d11-4e45-b216-ebbe40e40e7b\", \"employee_name\": \"Richard Garcia\", \"department\": \"HR\", \"state\": \"TX\", \"salary\": 44656, \"age\": 33, \"bonus\": 30364, \"ts\": 110998487}'\n",
      "test-topic-2:0:98: key=None value=b'{\"emp_id\": \"00aa00f6-14a8-401b-9143-7b1ff39ded0e\", \"employee_name\": \"Christopher Kelley\", \"department\": \"Marketing\", \"state\": \"TX\", \"salary\": 62343, \"age\": 50, \"bonus\": 73873, \"ts\": 935521445}'\n",
      "test-topic-2:0:99: key=None value=b'{\"emp_id\": \"0b1b6bd7-ff45-4fb3-965e-d34c4bf6df08\", \"employee_name\": \"Alexis Marsh\", \"department\": \"Sales\", \"state\": \"FL\", \"salary\": 146630, \"age\": 27, \"bonus\": 49763, \"ts\": 466071437}'\n",
      "test-topic-2:0:100: key=None value=b'{\"emp_id\": \"cf7cc4c3-06b6-4927-a781-e1aecc9ac5c4\", \"employee_name\": \"Zachary Williams\", \"department\": \"HR\", \"state\": \"FL\", \"salary\": 62690, \"age\": 32, \"bonus\": 89638, \"ts\": 363833218}'\n",
      "test-topic-2:0:101: key=None value=b'{\"emp_id\": \"51d6d899-46b9-43eb-905d-08e9915831ff\", \"employee_name\": \"Amy Richards\", \"department\": \"HR\", \"state\": \"TX\", \"salary\": 19445, \"age\": 50, \"bonus\": 33675, \"ts\": 1039513773}'\n",
      "test-topic-2:0:102: key=None value=b'{\"emp_id\": \"52e98987-08dd-4e59-8f99-653e8783d92a\", \"employee_name\": \"Stephen Murillo\", \"department\": \"Marketing\", \"state\": \"RJ\", \"salary\": 52194, \"age\": 45, \"bonus\": 36148, \"ts\": 452827970}'\n",
      "test-topic-2:0:103: key=None value=b'{\"emp_id\": \"dd2665d3-37b5-4fbb-9bd5-8cc63c29b2df\", \"employee_name\": \"Devin Gibson\", \"department\": \"HR\", \"state\": \"FL\", \"salary\": 56515, \"age\": 53, \"bonus\": 32694, \"ts\": 1031646372}'\n",
      "test-topic-2:0:104: key=None value=b'{\"emp_id\": \"56b37059-c454-44e1-966e-04bd13acddb5\", \"employee_name\": \"Gabrielle Gentry\", \"department\": \"IT\", \"state\": \"TX\", \"salary\": 149141, \"age\": 51, \"bonus\": 15798, \"ts\": 1202647502}'\n",
      "test-topic-2:0:105: key=None value=b'{\"emp_id\": \"114e6bc9-ebb9-4938-b900-d8e781e8eb9a\", \"employee_name\": \"Jeffery Ochoa\", \"department\": \"Marketing\", \"state\": \"CA\", \"salary\": 37062, \"age\": 37, \"bonus\": 9269, \"ts\": 636419314}'\n",
      "test-topic-2:0:106: key=None value=b'{\"emp_id\": \"c2869b94-2016-40fa-bf14-8c15c8bdee20\", \"employee_name\": \"Bradley Henderson\", \"department\": \"Sales\", \"state\": \"IL\", \"salary\": 106874, \"age\": 48, \"bonus\": 10009, \"ts\": 829698544}'\n",
      "test-topic-2:0:107: key=None value=b'{\"emp_id\": \"5ec3a743-02d6-48f8-b863-4e2eae313abd\", \"employee_name\": \"Robert Lyons\", \"department\": \"HR\", \"state\": \"RJ\", \"salary\": 133968, \"age\": 35, \"bonus\": 53950, \"ts\": 572387724}'\n",
      "test-topic-2:0:108: key=None value=b'{\"emp_id\": \"ab3eaea0-676e-4f2b-8337-405c40343bd6\", \"employee_name\": \"Curtis James\", \"department\": \"Marketing\", \"state\": \"FL\", \"salary\": 121212, \"age\": 31, \"bonus\": 64138, \"ts\": 1520023188}'\n",
      "test-topic-2:0:109: key=None value=b'{\"emp_id\": \"1d416eb0-007c-44cc-af97-41d08d65cabf\", \"employee_name\": \"Dr. Steven Martin\", \"department\": \"HR\", \"state\": \"RJ\", \"salary\": 48711, \"age\": 29, \"bonus\": 40111, \"ts\": 133693070}'\n",
      "test-topic-2:0:110: key=None value=b'{\"emp_id\": \"95bed932-5e32-4f52-99ea-9711a37d1f52\", \"employee_name\": \"Kenneth Baker\", \"department\": \"HR\", \"state\": \"FL\", \"salary\": 77926, \"age\": 50, \"bonus\": 20416, \"ts\": 1032934504}'\n",
      "test-topic-2:0:111: key=None value=b'{\"emp_id\": \"c1e08215-fb67-409c-a512-f2931e5e1f50\", \"employee_name\": \"Kathleen Durham\", \"department\": \"HR\", \"state\": \"TX\", \"salary\": 71590, \"age\": 32, \"bonus\": 98717, \"ts\": 460548539}'\n",
      "test-topic-2:0:112: key=None value=b'{\"emp_id\": \"53c5047b-389c-4342-bb91-e0df6731d252\", \"employee_name\": \"Tammy Cruz\", \"department\": \"HR\", \"state\": \"TX\", \"salary\": 52775, \"age\": 47, \"bonus\": 213, \"ts\": 1366204341}'\n",
      "test-topic-2:0:113: key=None value=b'{\"emp_id\": \"e502552a-669f-4770-bce4-21ed0141dc7d\", \"employee_name\": \"Monica Edwards\", \"department\": \"IT\", \"state\": \"RJ\", \"salary\": 29462, \"age\": 41, \"bonus\": 93102, \"ts\": 1058361466}'\n",
      "test-topic-2:0:114: key=None value=b'{\"emp_id\": \"132316b6-3794-4043-baee-4cb9c28c6308\", \"employee_name\": \"Kimberly Case\", \"department\": \"Sales\", \"state\": \"FL\", \"salary\": 70310, \"age\": 52, \"bonus\": 80004, \"ts\": 537959046}'\n",
      "test-topic-2:0:115: key=None value=b'{\"emp_id\": \"a2086436-d452-4e64-b970-2695a5a136c3\", \"employee_name\": \"Albert Robinson\", \"department\": \"HR\", \"state\": \"TX\", \"salary\": 116601, \"age\": 20, \"bonus\": 50535, \"ts\": 388200668}'\n",
      "test-topic-2:0:116: key=None value=b'{\"emp_id\": \"f531648b-1805-468e-834b-21040e41b317\", \"employee_name\": \"Brittany Smith\", \"department\": \"Marketing\", \"state\": \"TX\", \"salary\": 52269, \"age\": 47, \"bonus\": 70896, \"ts\": 15434316}'\n",
      "test-topic-2:0:117: key=None value=b'{\"emp_id\": \"ca408f24-34c3-4ecd-8148-441d51f5d278\", \"employee_name\": \"Frank Wyatt\", \"department\": \"Sales\", \"state\": \"TX\", \"salary\": 50909, \"age\": 39, \"bonus\": 96480, \"ts\": 989767325}'\n",
      "test-topic-2:0:118: key=None value=b'{\"emp_id\": \"c5000bd5-109e-4074-9721-8d68389e1f26\", \"employee_name\": \"Angela Johnson\", \"department\": \"Sales\", \"state\": \"NY\", \"salary\": 72839, \"age\": 24, \"bonus\": 69484, \"ts\": 602400281}'\n",
      "test-topic-2:0:119: key=None value=b'{\"emp_id\": \"ee299c92-f51c-4c2d-9490-b52daa761e7d\", \"employee_name\": \"Charles Hansen\", \"department\": \"Marketing\", \"state\": \"FL\", \"salary\": 68282, \"age\": 47, \"bonus\": 98113, \"ts\": 1211859038}'\n",
      "test-topic-2:0:120: key=None value=b'{\"emp_id\": \"48c8eb4d-13f2-45a6-9571-1631c2b67812\", \"employee_name\": \"Matthew Williams\", \"department\": \"HR\", \"state\": \"TX\", \"salary\": 107735, \"age\": 27, \"bonus\": 25882, \"ts\": 1127232060}'\n",
      "test-topic-2:0:121: key=None value=b'{\"emp_id\": \"8da61564-df09-4011-8aa2-a4cb88755e9d\", \"employee_name\": \"Kenneth Gonzalez\", \"department\": \"IT\", \"state\": \"CA\", \"salary\": 22828, \"age\": 51, \"bonus\": 82112, \"ts\": 668429332}'\n",
      "test-topic-2:0:122: key=None value=b'{\"emp_id\": \"f29ab42e-c0c2-47f7-a17f-c4733be70ac7\", \"employee_name\": \"Yvette Cook\", \"department\": \"Sales\", \"state\": \"CA\", \"salary\": 45283, \"age\": 46, \"bonus\": 34519, \"ts\": 1472297766}'\n",
      "test-topic-2:0:123: key=None value=b'{\"emp_id\": \"eb3047e6-4225-4d52-aae7-7e9e98e62973\", \"employee_name\": \"Catherine Lawrence\", \"department\": \"Marketing\", \"state\": \"FL\", \"salary\": 140571, \"age\": 46, \"bonus\": 34757, \"ts\": 733158959}'\n",
      "test-topic-2:0:124: key=None value=b'{\"emp_id\": \"ee03ca57-ae6e-4ea2-a912-01e994b43c18\", \"employee_name\": \"Paula Taylor\", \"department\": \"HR\", \"state\": \"NY\", \"salary\": 128762, \"age\": 37, \"bonus\": 79857, \"ts\": 779614260}'\n",
      "test-topic-2:0:125: key=None value=b'{\"emp_id\": \"a1ac40b3-2637-4c35-a186-dda2f02f8f6e\", \"employee_name\": \"Briana Williams\", \"department\": \"IT\", \"state\": \"IL\", \"salary\": 104971, \"age\": 21, \"bonus\": 1416, \"ts\": 265632712}'\n",
      "test-topic-2:0:126: key=None value=b'{\"emp_id\": \"1ff78a8e-049e-4f64-a73d-8aa9afc31169\", \"employee_name\": \"Stanley Allison\", \"department\": \"HR\", \"state\": \"FL\", \"salary\": 138735, \"age\": 33, \"bonus\": 36609, \"ts\": 539452804}'\n",
      "test-topic-2:0:127: key=None value=b'{\"emp_id\": \"25d1e2a9-556e-4106-a29f-1cf63aa3c3fe\", \"employee_name\": \"Amber Price\", \"department\": \"Marketing\", \"state\": \"TX\", \"salary\": 105795, \"age\": 35, \"bonus\": 89492, \"ts\": 72213971}'\n",
      "test-topic-2:0:128: key=None value=b'{\"emp_id\": \"2d225886-6837-47ce-b0cc-e694742b2afc\", \"employee_name\": \"Christina Martin\", \"department\": \"Marketing\", \"state\": \"CA\", \"salary\": 34024, \"age\": 45, \"bonus\": 64715, \"ts\": 1573016609}'\n",
      "test-topic-2:0:129: key=None value=b'{\"emp_id\": \"252e3ee3-b3cb-4eb4-b530-23e15bdd946a\", \"employee_name\": \"Nicole Burns\", \"department\": \"HR\", \"state\": \"TX\", \"salary\": 146845, \"age\": 49, \"bonus\": 46559, \"ts\": 65094638}'\n",
      "test-topic-2:0:130: key=None value=b'{\"emp_id\": \"71ded00f-483a-4e70-a706-de3d6cc90b78\", \"employee_name\": \"Richard Ho\", \"department\": \"Sales\", \"state\": \"CA\", \"salary\": 67394, \"age\": 33, \"bonus\": 69411, \"ts\": 36715952}'\n",
      "test-topic-2:0:131: key=None value=b'{\"emp_id\": \"b66e14c6-06cf-45d3-8d8b-84b1dd3287de\", \"employee_name\": \"Erica Mccormick\", \"department\": \"HR\", \"state\": \"RJ\", \"salary\": 135242, \"age\": 56, \"bonus\": 77143, \"ts\": 455217869}'\n",
      "test-topic-2:0:132: key=None value=b'{\"emp_id\": \"3bbe0f8c-41c0-4180-97ff-cd754b8e3977\", \"employee_name\": \"Alison Lee\", \"department\": \"Sales\", \"state\": \"RJ\", \"salary\": 70346, \"age\": 51, \"bonus\": 41373, \"ts\": 228892604}'\n",
      "test-topic-2:0:133: key=None value=b'{\"emp_id\": \"15469dfd-44f5-4b67-8446-3035333be529\", \"employee_name\": \"Robin King\", \"department\": \"Marketing\", \"state\": \"CA\", \"salary\": 51323, \"age\": 28, \"bonus\": 14401, \"ts\": 276320943}'\n",
      "test-topic-2:0:134: key=None value=b'{\"emp_id\": \"fd2d890a-c456-4972-a78d-aa39364ea0ba\", \"employee_name\": \"Kathryn Patton\", \"department\": \"Marketing\", \"state\": \"RJ\", \"salary\": 146067, \"age\": 30, \"bonus\": 88330, \"ts\": 1090059242}'\n",
      "test-topic-2:0:135: key=None value=b'{\"emp_id\": \"d4fb5374-222f-484b-8891-5962ae13f35a\", \"employee_name\": \"Shannon Osborne\", \"department\": \"Marketing\", \"state\": \"IL\", \"salary\": 120876, \"age\": 50, \"bonus\": 88042, \"ts\": 953746457}'\n",
      "test-topic-2:0:136: key=None value=b'{\"emp_id\": \"b00b2dde-98b1-407e-8bdb-f3ee87b5fc91\", \"employee_name\": \"Franklin Willis\", \"department\": \"Marketing\", \"state\": \"FL\", \"salary\": 35385, \"age\": 59, \"bonus\": 58030, \"ts\": 570561112}'\n",
      "test-topic-2:0:137: key=None value=b'{\"emp_id\": \"614b0938-aea1-41c1-84ce-c662ccb11fe8\", \"employee_name\": \"Vanessa Wright\", \"department\": \"Sales\", \"state\": \"NY\", \"salary\": 25506, \"age\": 40, \"bonus\": 27669, \"ts\": 957569428}'\n",
      "test-topic-2:0:138: key=None value=b'{\"emp_id\": \"54906c49-2c1f-4121-954b-ba1025dc0eba\", \"employee_name\": \"Joshua Johnson\", \"department\": \"HR\", \"state\": \"CA\", \"salary\": 114067, \"age\": 19, \"bonus\": 8920, \"ts\": 89556835}'\n",
      "test-topic-2:0:139: key=None value=b'{\"emp_id\": \"ced9f38a-41f4-44db-a68d-aa8b7e29e5fe\", \"employee_name\": \"Stacy Moreno\", \"department\": \"HR\", \"state\": \"CA\", \"salary\": 78141, \"age\": 51, \"bonus\": 72316, \"ts\": 1561088121}'\n",
      "test-topic-2:0:140: key=None value=b'{\"emp_id\": \"858e54d6-12f8-4992-854d-c85c43194e56\", \"employee_name\": \"Susan Taylor\", \"department\": \"Sales\", \"state\": \"CA\", \"salary\": 63427, \"age\": 53, \"bonus\": 9423, \"ts\": 1544027596}'\n",
      "test-topic-2:0:141: key=None value=b'{\"emp_id\": \"c3d58bae-8d50-4f90-9644-720328259911\", \"employee_name\": \"Debra Bradshaw\", \"department\": \"HR\", \"state\": \"NY\", \"salary\": 39397, \"age\": 22, \"bonus\": 15874, \"ts\": 33716492}'\n",
      "test-topic-2:0:142: key=None value=b'{\"emp_id\": \"377fc122-36c6-4768-9908-84168c9a2709\", \"employee_name\": \"Paul Chavez\", \"department\": \"Sales\", \"state\": \"NY\", \"salary\": 10944, \"age\": 48, \"bonus\": 5447, \"ts\": 1597373266}'\n",
      "test-topic-2:0:143: key=None value=b'{\"emp_id\": \"f7b9b5bf-f0a2-405c-a997-92b49267c183\", \"employee_name\": \"Stephen Mcneil\", \"department\": \"Marketing\", \"state\": \"RJ\", \"salary\": 138722, \"age\": 24, \"bonus\": 17795, \"ts\": 953063815}'\n",
      "test-topic-2:0:144: key=None value=b'{\"emp_id\": \"efac9d0c-c54a-4722-864c-dc1626d0c4a1\", \"employee_name\": \"Ebony Black\", \"department\": \"Sales\", \"state\": \"IL\", \"salary\": 63601, \"age\": 22, \"bonus\": 46628, \"ts\": 33624922}'\n",
      "test-topic-2:0:145: key=None value=b'{\"emp_id\": \"cf29e044-90bc-4a65-a1f8-c4c5842e09cc\", \"employee_name\": \"Amber Nash\", \"department\": \"HR\", \"state\": \"NY\", \"salary\": 80090, \"age\": 29, \"bonus\": 54319, \"ts\": 630059663}'\n",
      "test-topic-2:0:146: key=None value=b'{\"emp_id\": \"40844411-2144-4cc0-a5ce-5f57de832b0e\", \"employee_name\": \"Derek Hughes\", \"department\": \"Marketing\", \"state\": \"TX\", \"salary\": 20250, \"age\": 50, \"bonus\": 285, \"ts\": 28409189}'\n",
      "test-topic-2:0:147: key=None value=b'{\"emp_id\": \"70217828-6037-4322-84be-47fea0f4efb6\", \"employee_name\": \"Adam Schroeder\", \"department\": \"Sales\", \"state\": \"IL\", \"salary\": 101567, \"age\": 53, \"bonus\": 92707, \"ts\": 513612658}'\n",
      "test-topic-2:0:148: key=None value=b'{\"emp_id\": \"b6c35e3d-e4cd-4d35-85c7-ad50b8fad13b\", \"employee_name\": \"Eric Allen\", \"department\": \"HR\", \"state\": \"NY\", \"salary\": 124132, \"age\": 47, \"bonus\": 18283, \"ts\": 1338050680}'\n",
      "test-topic-2:0:149: key=None value=b'{\"emp_id\": \"2b525f79-4181-447d-9b40-9738fcaf45c8\", \"employee_name\": \"Anthony Anderson\", \"department\": \"HR\", \"state\": \"FL\", \"salary\": 102805, \"age\": 57, \"bonus\": 3280, \"ts\": 1112843264}'\n",
      "test-topic-2:0:150: key=None value=b'{\"emp_id\": \"c267ef58-19a0-44f2-a729-d7701818c620\", \"employee_name\": \"Brett Alvarez\", \"department\": \"Marketing\", \"state\": \"FL\", \"salary\": 80359, \"age\": 46, \"bonus\": 49040, \"ts\": 856718307}'\n",
      "test-topic-2:0:151: key=None value=b'{\"emp_id\": \"561ebf33-0d47-42b7-ac5f-10a4f6193408\", \"employee_name\": \"Richard Love\", \"department\": \"Marketing\", \"state\": \"IL\", \"salary\": 13906, \"age\": 21, \"bonus\": 78538, \"ts\": 498759810}'\n",
      "test-topic-2:0:152: key=None value=b'{\"emp_id\": \"881728f7-78a4-49fd-8131-e08791466d32\", \"employee_name\": \"Katie Rich\", \"department\": \"IT\", \"state\": \"CA\", \"salary\": 91398, \"age\": 26, \"bonus\": 52792, \"ts\": 1459828918}'\n",
      "test-topic-2:0:153: key=None value=b'{\"emp_id\": \"8867542d-735d-4fc5-8d90-3cfc79ea9df2\", \"employee_name\": \"Angela Hogan\", \"department\": \"HR\", \"state\": \"NY\", \"salary\": 40504, \"age\": 57, \"bonus\": 46395, \"ts\": 1627169798}'\n",
      "test-topic-2:0:154: key=None value=b'{\"emp_id\": \"265fa088-48d3-4f84-80b1-86a0c5f09f7d\", \"employee_name\": \"Joyce Williams\", \"department\": \"Marketing\", \"state\": \"CA\", \"salary\": 119625, \"age\": 41, \"bonus\": 62971, \"ts\": 1452773509}'\n",
      "test-topic-2:0:155: key=None value=b'{\"emp_id\": \"79b6493a-0830-4680-ba20-765bfce5666b\", \"employee_name\": \"James Aguirre\", \"department\": \"IT\", \"state\": \"RJ\", \"salary\": 43136, \"age\": 57, \"bonus\": 59667, \"ts\": 1408429045}'\n",
      "test-topic-2:0:156: key=None value=b'{\"emp_id\": \"beba2638-35c3-4f33-8f04-8dc839e1bb4c\", \"employee_name\": \"Robert Peterson\", \"department\": \"Sales\", \"state\": \"RJ\", \"salary\": 133040, \"age\": 23, \"bonus\": 84444, \"ts\": 596729643}'\n",
      "test-topic-2:0:157: key=None value=b'{\"emp_id\": \"90a0afe1-2558-4253-b123-3a1843d79dea\", \"employee_name\": \"Darrell Anderson\", \"department\": \"Sales\", \"state\": \"IL\", \"salary\": 125376, \"age\": 33, \"bonus\": 16927, \"ts\": 1402958052}'\n",
      "test-topic-2:0:158: key=None value=b'{\"emp_id\": \"270677ca-5ff9-4fe0-868a-daf90b7b14c9\", \"employee_name\": \"Mark Sullivan\", \"department\": \"IT\", \"state\": \"CA\", \"salary\": 43034, \"age\": 37, \"bonus\": 68013, \"ts\": 1352272499}'\n",
      "test-topic-2:0:159: key=None value=b'{\"emp_id\": \"a544efab-d03e-4b86-a95e-f4280ea80035\", \"employee_name\": \"Jack Maldonado\", \"department\": \"IT\", \"state\": \"CA\", \"salary\": 66448, \"age\": 51, \"bonus\": 83731, \"ts\": 1530423351}'\n",
      "test-topic-2:0:160: key=None value=b'{\"emp_id\": \"c11160c7-2ad2-4cef-ab32-3f65443559fc\", \"employee_name\": \"Brian Lawson\", \"department\": \"IT\", \"state\": \"NY\", \"salary\": 119837, \"age\": 57, \"bonus\": 66216, \"ts\": 1501054647}'\n",
      "test-topic-2:0:161: key=None value=b'{\"emp_id\": \"157249b4-657a-46c5-97c0-ba5cbf12cfed\", \"employee_name\": \"Susan Mcintyre\", \"department\": \"IT\", \"state\": \"RJ\", \"salary\": 38687, \"age\": 27, \"bonus\": 37135, \"ts\": 148721165}'\n",
      "test-topic-2:0:162: key=None value=b'{\"emp_id\": \"87a8a158-5a7f-401d-bdc9-e9b71b59eda6\", \"employee_name\": \"Patricia Davis\", \"department\": \"HR\", \"state\": \"TX\", \"salary\": 137649, \"age\": 39, \"bonus\": 87465, \"ts\": 1032534892}'\n",
      "test-topic-2:0:163: key=None value=b'{\"emp_id\": \"3fcf8b50-751f-4833-8535-5688daf80825\", \"employee_name\": \"Emily Molina\", \"department\": \"Marketing\", \"state\": \"CA\", \"salary\": 83795, \"age\": 43, \"bonus\": 44911, \"ts\": 753698123}'\n",
      "test-topic-2:0:164: key=None value=b'{\"emp_id\": \"0c6236d8-d408-48e7-ba4a-057384c68b66\", \"employee_name\": \"Joshua Robinson\", \"department\": \"HR\", \"state\": \"NY\", \"salary\": 136032, \"age\": 36, \"bonus\": 69979, \"ts\": 1254479752}'\n",
      "test-topic-2:0:165: key=None value=b'{\"emp_id\": \"5d8fb363-b8ce-40c0-bc74-595c323f3be5\", \"employee_name\": \"Brianna Rios\", \"department\": \"Sales\", \"state\": \"CA\", \"salary\": 19500, \"age\": 35, \"bonus\": 12262, \"ts\": 1131913670}'\n",
      "test-topic-2:0:166: key=None value=b'{\"emp_id\": \"b156d652-c972-42ac-b503-ba45338f8503\", \"employee_name\": \"Jacqueline Romero\", \"department\": \"IT\", \"state\": \"FL\", \"salary\": 35172, \"age\": 34, \"bonus\": 501, \"ts\": 693023027}'\n",
      "test-topic-2:0:167: key=None value=b'{\"emp_id\": \"39376280-8846-419c-860c-52850f4146c1\", \"employee_name\": \"Steven Ortiz\", \"department\": \"Marketing\", \"state\": \"NY\", \"salary\": 111869, \"age\": 35, \"bonus\": 5558, \"ts\": 1412026167}'\n",
      "test-topic-2:0:168: key=None value=b'{\"emp_id\": \"5e68c051-6947-4e7b-99a6-6cbbd200dcf8\", \"employee_name\": \"Rick Combs DDS\", \"department\": \"Marketing\", \"state\": \"RJ\", \"salary\": 96120, \"age\": 35, \"bonus\": 36744, \"ts\": 1072453480}'\n",
      "test-topic-2:0:169: key=None value=b'{\"emp_id\": \"6ea16a48-eba0-45f1-b56b-086668c45ab4\", \"employee_name\": \"Anthony Scott\", \"department\": \"Sales\", \"state\": \"FL\", \"salary\": 18109, \"age\": 34, \"bonus\": 41223, \"ts\": 880104223}'\n",
      "test-topic-2:0:170: key=None value=b'{\"emp_id\": \"6f82cefd-67d3-4bc3-8bd6-f18d635341c3\", \"employee_name\": \"David Russell\", \"department\": \"Marketing\", \"state\": \"FL\", \"salary\": 58496, \"age\": 37, \"bonus\": 6979, \"ts\": 145108635}'\n",
      "test-topic-2:0:171: key=None value=b'{\"emp_id\": \"8e6cc04b-0e59-414d-a3bf-3f734bc7feab\", \"employee_name\": \"David Lopez\", \"department\": \"HR\", \"state\": \"RJ\", \"salary\": 94010, \"age\": 48, \"bonus\": 89725, \"ts\": 9690115}'\n",
      "test-topic-2:0:172: key=None value=b'{\"emp_id\": \"bc66bb44-74f2-4975-aeb5-8e9a67d4c38e\", \"employee_name\": \"Carlos Roberts\", \"department\": \"Marketing\", \"state\": \"NY\", \"salary\": 111132, \"age\": 57, \"bonus\": 71950, \"ts\": 413734239}'\n",
      "test-topic-2:0:173: key=None value=b'{\"emp_id\": \"da6dea99-e1d8-4c2c-aa88-00e1ca72ba60\", \"employee_name\": \"Kelly Cervantes\", \"department\": \"Sales\", \"state\": \"NY\", \"salary\": 142795, \"age\": 34, \"bonus\": 87646, \"ts\": 666418357}'\n",
      "test-topic-2:0:174: key=None value=b'{\"emp_id\": \"3a668d56-e235-4545-8aa7-90fe819a6804\", \"employee_name\": \"Bruce Lewis\", \"department\": \"HR\", \"state\": \"IL\", \"salary\": 38718, \"age\": 52, \"bonus\": 88108, \"ts\": 791856218}'\n",
      "test-topic-2:0:175: key=None value=b'{\"emp_id\": \"7553ea1f-0333-4cd8-97e0-d8aaaa32ee85\", \"employee_name\": \"Gabriel Huynh\", \"department\": \"Marketing\", \"state\": \"RJ\", \"salary\": 53959, \"age\": 34, \"bonus\": 20519, \"ts\": 654524842}'\n",
      "test-topic-2:0:176: key=None value=b'{\"emp_id\": \"2e05be7a-05cf-49df-b79d-ce3151d245cf\", \"employee_name\": \"Amy Jones\", \"department\": \"Marketing\", \"state\": \"CA\", \"salary\": 24981, \"age\": 59, \"bonus\": 44695, \"ts\": 778964835}'\n",
      "test-topic-2:0:177: key=None value=b'{\"emp_id\": \"c5b519e0-8679-470f-a1a1-cc0f283f0467\", \"employee_name\": \"Austin Griffin\", \"department\": \"IT\", \"state\": \"NY\", \"salary\": 46134, \"age\": 53, \"bonus\": 86984, \"ts\": 887449032}'\n",
      "test-topic-2:0:178: key=None value=b'{\"emp_id\": \"498b7d39-ced5-4cc1-badc-8406950c1ccb\", \"employee_name\": \"Nicole Soto\", \"department\": \"Marketing\", \"state\": \"FL\", \"salary\": 145300, \"age\": 31, \"bonus\": 56612, \"ts\": 1040641708}'\n",
      "test-topic-2:0:179: key=None value=b'{\"emp_id\": \"d54b0a4b-54fb-4490-a90b-e5f5cf2e8228\", \"employee_name\": \"Frank Brown\", \"department\": \"Sales\", \"state\": \"RJ\", \"salary\": 94131, \"age\": 57, \"bonus\": 50054, \"ts\": 760752396}'\n",
      "test-topic-2:0:180: key=None value=b'{\"emp_id\": \"0619d4df-563b-4ed6-9eba-5a0262791600\", \"employee_name\": \"Evan Miller\", \"department\": \"Sales\", \"state\": \"CA\", \"salary\": 115082, \"age\": 56, \"bonus\": 75686, \"ts\": 925687950}'\n",
      "test-topic-2:0:181: key=None value=b'{\"emp_id\": \"388132b9-419a-4c50-a66c-af46f52b48d7\", \"employee_name\": \"Thomas Roberts\", \"department\": \"HR\", \"state\": \"TX\", \"salary\": 57771, \"age\": 60, \"bonus\": 80518, \"ts\": 1259943467}'\n",
      "test-topic-2:0:182: key=None value=b'{\"emp_id\": \"8f814a2d-0c02-4c71-9acd-45c40b9f5e1b\", \"employee_name\": \"Andrew Larson\", \"department\": \"HR\", \"state\": \"IL\", \"salary\": 18226, \"age\": 49, \"bonus\": 49380, \"ts\": 1450278959}'\n",
      "test-topic-2:0:183: key=None value=b'{\"emp_id\": \"7f730f01-3dd8-435f-a2ca-41761ef463c5\", \"employee_name\": \"Elaine Graves\", \"department\": \"Marketing\", \"state\": \"TX\", \"salary\": 121371, \"age\": 42, \"bonus\": 1161, \"ts\": 964508616}'\n",
      "test-topic-2:0:184: key=None value=b'{\"emp_id\": \"636f3d72-394b-4370-9d19-025c488cd743\", \"employee_name\": \"Anthony Garcia\", \"department\": \"IT\", \"state\": \"IL\", \"salary\": 21419, \"age\": 56, \"bonus\": 79287, \"ts\": 1659243459}'\n",
      "test-topic-2:0:185: key=None value=b'{\"emp_id\": \"b471c6f7-7bc2-45d2-8378-a738bbd35ea7\", \"employee_name\": \"Dominique Smith\", \"department\": \"IT\", \"state\": \"CA\", \"salary\": 77947, \"age\": 26, \"bonus\": 37636, \"ts\": 153732030}'\n",
      "test-topic-2:0:186: key=None value=b'{\"emp_id\": \"cc9c645f-6459-41d6-b918-b242822d5439\", \"employee_name\": \"Nicholas Moore\", \"department\": \"Sales\", \"state\": \"CA\", \"salary\": 83742, \"age\": 31, \"bonus\": 297, \"ts\": 465783095}'\n",
      "test-topic-2:0:187: key=None value=b'{\"emp_id\": \"265c5230-e58a-48dc-aa5a-8b279dfebe64\", \"employee_name\": \"Matthew Lopez\", \"department\": \"Sales\", \"state\": \"NY\", \"salary\": 33372, \"age\": 37, \"bonus\": 56288, \"ts\": 554922104}'\n",
      "test-topic-2:0:188: key=None value=b'{\"emp_id\": \"c86d9d16-9658-438c-bc2d-0b7233eb63d3\", \"employee_name\": \"Patricia Nguyen\", \"department\": \"Marketing\", \"state\": \"IL\", \"salary\": 126435, \"age\": 26, \"bonus\": 92236, \"ts\": 1332253578}'\n",
      "test-topic-2:0:189: key=None value=b'{\"emp_id\": \"2dabefb4-1752-4ee3-a27d-63dd7725a4f2\", \"employee_name\": \"Charles Moran\", \"department\": \"IT\", \"state\": \"CA\", \"salary\": 107439, \"age\": 39, \"bonus\": 14851, \"ts\": 1313432313}'\n",
      "test-topic-2:0:190: key=None value=b'{\"emp_id\": \"8ac32083-757e-4633-a34c-af32fd54bcb0\", \"employee_name\": \"Benjamin Rowland\", \"department\": \"Marketing\", \"state\": \"RJ\", \"salary\": 109876, \"age\": 48, \"bonus\": 11753, \"ts\": 1554097190}'\n",
      "test-topic-2:0:191: key=None value=b'{\"emp_id\": \"9a4e2824-f9f7-4cc7-882d-8262003448a9\", \"employee_name\": \"Maria Watson\", \"department\": \"Marketing\", \"state\": \"FL\", \"salary\": 90504, \"age\": 40, \"bonus\": 21011, \"ts\": 1093786182}'\n",
      "test-topic-2:0:192: key=None value=b'{\"emp_id\": \"7ff7db1b-d5b3-4ea6-9393-78d8d3ac4f67\", \"employee_name\": \"Nicole Mccullough\", \"department\": \"HR\", \"state\": \"CA\", \"salary\": 108927, \"age\": 44, \"bonus\": 87595, \"ts\": 261522897}'\n",
      "test-topic-2:0:193: key=None value=b'{\"emp_id\": \"18c2b82a-2f69-4776-899e-abb2f1462dfc\", \"employee_name\": \"Elizabeth Rose\", \"department\": \"Sales\", \"state\": \"CA\", \"salary\": 117305, \"age\": 51, \"bonus\": 70979, \"ts\": 1615201687}'\n",
      "test-topic-2:0:194: key=None value=b'{\"emp_id\": \"26134b4a-3947-46cd-8081-594ee99916bd\", \"employee_name\": \"Kathy Wade\", \"department\": \"IT\", \"state\": \"TX\", \"salary\": 51623, \"age\": 55, \"bonus\": 4689, \"ts\": 24590239}'\n",
      "test-topic-2:0:195: key=None value=b'{\"emp_id\": \"76543785-f189-4e2b-9320-87241dd961c2\", \"employee_name\": \"Andrea Smith\", \"department\": \"Sales\", \"state\": \"NY\", \"salary\": 91387, \"age\": 43, \"bonus\": 60192, \"ts\": 595187358}'\n",
      "test-topic-2:0:196: key=None value=b'{\"emp_id\": \"009ac57f-7b26-43a8-b94d-41dcd637c59d\", \"employee_name\": \"Christine Hatfield\", \"department\": \"Sales\", \"state\": \"IL\", \"salary\": 139112, \"age\": 56, \"bonus\": 73009, \"ts\": 885113442}'\n",
      "test-topic-2:0:197: key=None value=b'{\"emp_id\": \"c0da883a-dc63-4533-af95-830a0acdf2b9\", \"employee_name\": \"Albert Grant\", \"department\": \"IT\", \"state\": \"CA\", \"salary\": 128439, \"age\": 51, \"bonus\": 42007, \"ts\": 145009164}'\n",
      "test-topic-2:0:198: key=None value=b'{\"emp_id\": \"c2d06a5e-682d-4f9a-8cb6-3f10c52220c2\", \"employee_name\": \"Amanda Summers\", \"department\": \"Sales\", \"state\": \"RJ\", \"salary\": 83852, \"age\": 21, \"bonus\": 6039, \"ts\": 764467192}'\n",
      "test-topic-2:0:199: key=None value=b'{\"emp_id\": \"b6610f7f-7fa0-4601-99a1-2dc24406b416\", \"employee_name\": \"Joann Allen\", \"department\": \"Sales\", \"state\": \"CA\", \"salary\": 37826, \"age\": 58, \"bonus\": 44583, \"ts\": 1639106277}'\n",
      "test-topic-2:0:200: key=None value=b'{\"emp_id\": \"60001538-a469-4564-a699-a1049b7ce4df\", \"employee_name\": \"Richard Morgan\", \"department\": \"HR\", \"state\": \"TX\", \"salary\": 109249, \"age\": 24, \"bonus\": 68597, \"ts\": 1306364492}'\n",
      "test-topic-2:0:201: key=None value=b'{\"emp_id\": \"2d2e28bc-e219-4564-8a59-83c2c6e356df\", \"employee_name\": \"Mary Scott\", \"department\": \"HR\", \"state\": \"IL\", \"salary\": 106415, \"age\": 42, \"bonus\": 76925, \"ts\": 165029928}'\n"
     ]
    }
   ],
   "source": [
    "for message in consumer:\n",
    "    print (\"%s:%d:%d: key=%s value=%s\" % (message.topic, message.partition,\n",
    "                                          message.offset, message.key,\n",
    "                                          message.value))"
   ]
  },
  {
   "cell_type": "code",
   "execution_count": null,
   "id": "3c285f74-9601-462e-bd4c-bbb5cfb59126",
   "metadata": {
    "tags": []
   },
   "outputs": [],
   "source": [
    "from kafka import TopicPartition\n",
    "\n",
    "consumer = KafkaConsumer(group_id='dibimbing-group',\n",
    "                         bootstrap_servers=[f'{kafka_host}:9092'],\n",
    "                         value_deserializer=lambda m: json.loads(m.decode('ascii')),\n",
    "                         auto_offset_reset='earliest',\n",
    "                         enable_auto_commit=False\n",
    "                        )\n",
    "consumer.assign([TopicPartition(kafka_topic_partition, 2)])"
   ]
  },
  {
   "cell_type": "code",
   "execution_count": null,
   "id": "4b0a6eba-f188-4d4f-ab12-f63685faf4f3",
   "metadata": {
    "tags": []
   },
   "outputs": [],
   "source": [
    "for message in consumer:\n",
    "    print (\"%s:%d:%d: key=%s value=%s\" % (message.topic, message.partition,\n",
    "                                          message.offset, message.key,\n",
    "                                          message.value))"
   ]
  },
  {
   "cell_type": "code",
   "execution_count": null,
   "id": "bb81528d-ed9f-48e2-9ce3-f0d27f8a26d0",
   "metadata": {
    "tags": []
   },
   "outputs": [],
   "source": [
    "consumer.seek_to_beginning()"
   ]
  },
  {
   "cell_type": "code",
   "execution_count": null,
   "id": "c2794306-ef7a-416b-8b70-22395b9ed83b",
   "metadata": {
    "tags": []
   },
   "outputs": [],
   "source": [
    "for message in consumer:\n",
    "    print (\"%s:%d:%d: key=%s value=%s\" % (message.topic, message.partition,\n",
    "                                          message.offset, message.key,\n",
    "                                          message.value))"
   ]
  }
 ],
 "metadata": {
  "kernelspec": {
   "display_name": "Python 3 (ipykernel)",
   "language": "python",
   "name": "python3"
  },
  "language_info": {
   "codemirror_mode": {
    "name": "ipython",
    "version": 3
   },
   "file_extension": ".py",
   "mimetype": "text/x-python",
   "name": "python",
   "nbconvert_exporter": "python",
   "pygments_lexer": "ipython3",
   "version": "3.10.10"
  }
 },
 "nbformat": 4,
 "nbformat_minor": 5
}
