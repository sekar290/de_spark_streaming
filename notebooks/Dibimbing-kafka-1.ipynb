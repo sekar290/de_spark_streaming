{
 "cells": [
  {
   "cell_type": "code",
   "execution_count": 1,
   "id": "25846da4-c6b2-46a5-b7d1-9809732bb1b9",
   "metadata": {
    "tags": []
   },
   "outputs": [],
   "source": [
    "import json\n",
    "import uuid\n",
    "import os\n",
    "import json\n",
    "from dotenv import load_dotenv\n",
    "from pathlib import Path\n",
    "from kafka import KafkaProducer\n",
    "from faker import Faker\n",
    "from time import sleep"
   ]
  },
  {
   "cell_type": "code",
   "execution_count": 2,
   "id": "42f97822-c06f-47e0-a0a4-87a7bf1d95a9",
   "metadata": {
    "tags": []
   },
   "outputs": [
    {
     "data": {
      "text/plain": [
       "True"
      ]
     },
     "execution_count": 2,
     "metadata": {},
     "output_type": "execute_result"
    }
   ],
   "source": [
    "dotenv_path = Path('/resources/.env')\n",
    "load_dotenv(dotenv_path=dotenv_path)"
   ]
  },
  {
   "cell_type": "code",
   "execution_count": 3,
   "id": "3f89f5a9-8c75-4a38-b48d-ad72c6a13c41",
   "metadata": {
    "tags": []
   },
   "outputs": [],
   "source": [
    "kafka_host = os.getenv('DE_KAFKA_HOST')\n",
    "kafka_topic = os.getenv('DE_KAFKA_TOPIC_NAME')\n",
    "kafka_topic_partition = os.getenv('DE_KAFKA_TOPIC_NAME')+\"-2\""
   ]
  },
  {
   "cell_type": "code",
   "execution_count": 4,
   "id": "a4a59d22-69c5-4e0a-b1e2-d0d77867c45b",
   "metadata": {
    "tags": []
   },
   "outputs": [
    {
     "name": "stdout",
     "output_type": "stream",
     "text": [
      "dataeng-kafka\n"
     ]
    }
   ],
   "source": [
    "print(kafka_host)"
   ]
  },
  {
   "cell_type": "code",
   "execution_count": 5,
   "id": "8515096d-3bc6-4905-98f5-eb1e6d7bfa4c",
   "metadata": {
    "tags": []
   },
   "outputs": [],
   "source": [
    "producer = KafkaProducer(bootstrap_servers=f'{kafka_host}:9092')"
   ]
  },
  {
   "cell_type": "code",
   "execution_count": 6,
   "id": "78075b5c-08c8-4c43-99a1-0689a87414c4",
   "metadata": {
    "tags": []
   },
   "outputs": [],
   "source": [
    "_instance = Faker()\n",
    "global faker\n",
    "faker = Faker()"
   ]
  },
  {
   "cell_type": "code",
   "execution_count": null,
   "id": "503ade79-0f77-4970-8e04-ecefce397398",
   "metadata": {
    "tags": []
   },
   "outputs": [
    {
     "name": "stdout",
     "output_type": "stream",
     "text": [
      "7f32b6be-812e-4363-a611-4c8c3079057c RecordMetadata(topic='test-topic-2', partition=0, topic_partition=TopicPartition(topic='test-topic-2', partition=0), offset=0, timestamp=1694924666909, log_start_offset=0, checksum=None, serialized_key_size=-1, serialized_value_size=178, serialized_header_size=-1)\n",
      "942d6e7b-daaa-4af5-942d-5603cdc4bd55 RecordMetadata(topic='test-topic-2', partition=0, topic_partition=TopicPartition(topic='test-topic-2', partition=0), offset=1, timestamp=1694924677119, log_start_offset=0, checksum=None, serialized_key_size=-1, serialized_value_size=182, serialized_header_size=-1)\n",
      "45455126-d80b-46d7-b8f6-d49a89faf28d RecordMetadata(topic='test-topic-2', partition=0, topic_partition=TopicPartition(topic='test-topic-2', partition=0), offset=2, timestamp=1694924687162, log_start_offset=0, checksum=None, serialized_key_size=-1, serialized_value_size=179, serialized_header_size=-1)\n",
      "a4f3ff40-e9be-4c15-9f1a-ad33fe6a6a2b RecordMetadata(topic='test-topic-2', partition=0, topic_partition=TopicPartition(topic='test-topic-2', partition=0), offset=3, timestamp=1694924697255, log_start_offset=0, checksum=None, serialized_key_size=-1, serialized_value_size=183, serialized_header_size=-1)\n",
      "d5617a4c-4f54-48be-9536-9c9364b72ab7 RecordMetadata(topic='test-topic-2', partition=0, topic_partition=TopicPartition(topic='test-topic-2', partition=0), offset=4, timestamp=1694924707278, log_start_offset=0, checksum=None, serialized_key_size=-1, serialized_value_size=187, serialized_header_size=-1)\n",
      "5a447358-01cf-42b4-9fe9-137ea3d9fb01 RecordMetadata(topic='test-topic-2', partition=0, topic_partition=TopicPartition(topic='test-topic-2', partition=0), offset=5, timestamp=1694924717292, log_start_offset=0, checksum=None, serialized_key_size=-1, serialized_value_size=181, serialized_header_size=-1)\n",
      "0c3a6977-3f69-4e8f-948c-cd959b7d6302 RecordMetadata(topic='test-topic-2', partition=0, topic_partition=TopicPartition(topic='test-topic-2', partition=0), offset=6, timestamp=1694924727314, log_start_offset=0, checksum=None, serialized_key_size=-1, serialized_value_size=191, serialized_header_size=-1)\n",
      "afca9dcf-8a5e-43eb-8bc3-36cfa6e8020f RecordMetadata(topic='test-topic-2', partition=0, topic_partition=TopicPartition(topic='test-topic-2', partition=0), offset=7, timestamp=1694924737350, log_start_offset=0, checksum=None, serialized_key_size=-1, serialized_value_size=181, serialized_header_size=-1)\n",
      "f02be9d1-9eaa-4027-84bd-004f1aae3ea2 RecordMetadata(topic='test-topic-2', partition=0, topic_partition=TopicPartition(topic='test-topic-2', partition=0), offset=8, timestamp=1694924747366, log_start_offset=0, checksum=None, serialized_key_size=-1, serialized_value_size=179, serialized_header_size=-1)\n",
      "4de6a44f-e5b4-48c5-aaf6-590cb39298cf RecordMetadata(topic='test-topic-2', partition=0, topic_partition=TopicPartition(topic='test-topic-2', partition=0), offset=9, timestamp=1694924757389, log_start_offset=0, checksum=None, serialized_key_size=-1, serialized_value_size=180, serialized_header_size=-1)\n",
      "47f788d4-98eb-4e05-a69f-36a380f97043 RecordMetadata(topic='test-topic-2', partition=0, topic_partition=TopicPartition(topic='test-topic-2', partition=0), offset=10, timestamp=1694924767412, log_start_offset=0, checksum=None, serialized_key_size=-1, serialized_value_size=184, serialized_header_size=-1)\n",
      "f9299cb8-4cd8-4fa3-b54b-9b481165d357 RecordMetadata(topic='test-topic-2', partition=0, topic_partition=TopicPartition(topic='test-topic-2', partition=0), offset=11, timestamp=1694924777437, log_start_offset=0, checksum=None, serialized_key_size=-1, serialized_value_size=182, serialized_header_size=-1)\n",
      "9ff98742-4161-4445-b10f-0e7a191de50f RecordMetadata(topic='test-topic-2', partition=0, topic_partition=TopicPartition(topic='test-topic-2', partition=0), offset=12, timestamp=1694924787459, log_start_offset=0, checksum=None, serialized_key_size=-1, serialized_value_size=188, serialized_header_size=-1)\n",
      "0e60631e-8872-449d-a691-269ee1cf2fe4 RecordMetadata(topic='test-topic-2', partition=0, topic_partition=TopicPartition(topic='test-topic-2', partition=0), offset=13, timestamp=1694924797467, log_start_offset=0, checksum=None, serialized_key_size=-1, serialized_value_size=185, serialized_header_size=-1)\n",
      "271e853e-2bad-456d-b3d6-27070338d7e3 RecordMetadata(topic='test-topic-2', partition=0, topic_partition=TopicPartition(topic='test-topic-2', partition=0), offset=14, timestamp=1694924807482, log_start_offset=0, checksum=None, serialized_key_size=-1, serialized_value_size=181, serialized_header_size=-1)\n",
      "6d2cf3fb-026d-4bc5-bde4-0426f90ed1f4 RecordMetadata(topic='test-topic-2', partition=0, topic_partition=TopicPartition(topic='test-topic-2', partition=0), offset=15, timestamp=1694924817502, log_start_offset=0, checksum=None, serialized_key_size=-1, serialized_value_size=186, serialized_header_size=-1)\n",
      "fc84beb6-3038-49f2-a79d-99130a5819ba RecordMetadata(topic='test-topic-2', partition=0, topic_partition=TopicPartition(topic='test-topic-2', partition=0), offset=16, timestamp=1694924827521, log_start_offset=0, checksum=None, serialized_key_size=-1, serialized_value_size=192, serialized_header_size=-1)\n",
      "22db2a10-06a3-406b-bb9c-c9f3859647a6 RecordMetadata(topic='test-topic-2', partition=0, topic_partition=TopicPartition(topic='test-topic-2', partition=0), offset=17, timestamp=1694924837538, log_start_offset=0, checksum=None, serialized_key_size=-1, serialized_value_size=187, serialized_header_size=-1)\n",
      "cd45e45b-d888-46c2-af86-44ac6c2b3eef RecordMetadata(topic='test-topic-2', partition=0, topic_partition=TopicPartition(topic='test-topic-2', partition=0), offset=18, timestamp=1694924847556, log_start_offset=0, checksum=None, serialized_key_size=-1, serialized_value_size=179, serialized_header_size=-1)\n",
      "97a87ab5-843f-4e59-b83c-a105b9208589 RecordMetadata(topic='test-topic-2', partition=0, topic_partition=TopicPartition(topic='test-topic-2', partition=0), offset=19, timestamp=1694924857566, log_start_offset=0, checksum=None, serialized_key_size=-1, serialized_value_size=182, serialized_header_size=-1)\n",
      "68de83a5-a0ae-4f0e-9aa3-e97fab4b83bc RecordMetadata(topic='test-topic-2', partition=0, topic_partition=TopicPartition(topic='test-topic-2', partition=0), offset=20, timestamp=1694924867583, log_start_offset=0, checksum=None, serialized_key_size=-1, serialized_value_size=190, serialized_header_size=-1)\n",
      "35fc355f-7d74-406b-85d2-df61b6e35866 RecordMetadata(topic='test-topic-2', partition=0, topic_partition=TopicPartition(topic='test-topic-2', partition=0), offset=21, timestamp=1694924877599, log_start_offset=0, checksum=None, serialized_key_size=-1, serialized_value_size=188, serialized_header_size=-1)\n",
      "6a272c2f-3cbe-438f-a84b-8c76d98a587e RecordMetadata(topic='test-topic-2', partition=0, topic_partition=TopicPartition(topic='test-topic-2', partition=0), offset=22, timestamp=1694924887621, log_start_offset=0, checksum=None, serialized_key_size=-1, serialized_value_size=182, serialized_header_size=-1)\n",
      "4d6a7e03-811f-47df-9edb-4256c95997c8 RecordMetadata(topic='test-topic-2', partition=0, topic_partition=TopicPartition(topic='test-topic-2', partition=0), offset=23, timestamp=1694924897639, log_start_offset=0, checksum=None, serialized_key_size=-1, serialized_value_size=185, serialized_header_size=-1)\n",
      "eaf29346-87c0-4fa6-b6bd-01e2f3d4cf28 RecordMetadata(topic='test-topic-2', partition=0, topic_partition=TopicPartition(topic='test-topic-2', partition=0), offset=24, timestamp=1694924907664, log_start_offset=0, checksum=None, serialized_key_size=-1, serialized_value_size=185, serialized_header_size=-1)\n",
      "f0d7207b-d26f-40a2-aae2-a828520353b3 RecordMetadata(topic='test-topic-2', partition=0, topic_partition=TopicPartition(topic='test-topic-2', partition=0), offset=25, timestamp=1694924917679, log_start_offset=0, checksum=None, serialized_key_size=-1, serialized_value_size=187, serialized_header_size=-1)\n",
      "6728a233-d494-4dd3-bfb2-58e6bd96f6a1 RecordMetadata(topic='test-topic-2', partition=0, topic_partition=TopicPartition(topic='test-topic-2', partition=0), offset=26, timestamp=1694924927703, log_start_offset=0, checksum=None, serialized_key_size=-1, serialized_value_size=185, serialized_header_size=-1)\n",
      "3a56d598-ee28-4260-b351-9af06e5107ac RecordMetadata(topic='test-topic-2', partition=0, topic_partition=TopicPartition(topic='test-topic-2', partition=0), offset=27, timestamp=1694924937717, log_start_offset=0, checksum=None, serialized_key_size=-1, serialized_value_size=185, serialized_header_size=-1)\n",
      "b00acb7d-6751-4bff-b666-b17d1bd962b0 RecordMetadata(topic='test-topic-2', partition=0, topic_partition=TopicPartition(topic='test-topic-2', partition=0), offset=28, timestamp=1694924947728, log_start_offset=0, checksum=None, serialized_key_size=-1, serialized_value_size=180, serialized_header_size=-1)\n",
      "7902341e-d0f2-438a-b9bd-2241482967f3 RecordMetadata(topic='test-topic-2', partition=0, topic_partition=TopicPartition(topic='test-topic-2', partition=0), offset=29, timestamp=1694924957745, log_start_offset=0, checksum=None, serialized_key_size=-1, serialized_value_size=183, serialized_header_size=-1)\n",
      "3d4d0551-ef0b-47fa-85ee-cbb6aadaa6bd RecordMetadata(topic='test-topic-2', partition=0, topic_partition=TopicPartition(topic='test-topic-2', partition=0), offset=30, timestamp=1694924967755, log_start_offset=0, checksum=None, serialized_key_size=-1, serialized_value_size=186, serialized_header_size=-1)\n",
      "12f5d399-1ce3-44f8-88be-90e41586df15 RecordMetadata(topic='test-topic-2', partition=0, topic_partition=TopicPartition(topic='test-topic-2', partition=0), offset=31, timestamp=1694924977782, log_start_offset=0, checksum=None, serialized_key_size=-1, serialized_value_size=185, serialized_header_size=-1)\n",
      "c1db27c4-deb5-4d90-b12d-97f6ddf3031e RecordMetadata(topic='test-topic-2', partition=0, topic_partition=TopicPartition(topic='test-topic-2', partition=0), offset=32, timestamp=1694924987794, log_start_offset=0, checksum=None, serialized_key_size=-1, serialized_value_size=186, serialized_header_size=-1)\n",
      "68480207-cbec-4f02-a02d-1ac18407725f RecordMetadata(topic='test-topic-2', partition=0, topic_partition=TopicPartition(topic='test-topic-2', partition=0), offset=33, timestamp=1694924997803, log_start_offset=0, checksum=None, serialized_key_size=-1, serialized_value_size=183, serialized_header_size=-1)\n",
      "7aeb94f0-14ee-43cc-8865-98d7f58d3a65 RecordMetadata(topic='test-topic-2', partition=0, topic_partition=TopicPartition(topic='test-topic-2', partition=0), offset=34, timestamp=1694925007813, log_start_offset=0, checksum=None, serialized_key_size=-1, serialized_value_size=188, serialized_header_size=-1)\n",
      "d759785a-b059-438a-9d49-5ada22f036cd RecordMetadata(topic='test-topic-2', partition=0, topic_partition=TopicPartition(topic='test-topic-2', partition=0), offset=35, timestamp=1694925017825, log_start_offset=0, checksum=None, serialized_key_size=-1, serialized_value_size=185, serialized_header_size=-1)\n",
      "a336170f-8e5a-4ea8-b586-db806cccbfce RecordMetadata(topic='test-topic-2', partition=0, topic_partition=TopicPartition(topic='test-topic-2', partition=0), offset=36, timestamp=1694925027835, log_start_offset=0, checksum=None, serialized_key_size=-1, serialized_value_size=180, serialized_header_size=-1)\n",
      "0a5def50-80da-4da7-aa85-58b46eaeb4f3 RecordMetadata(topic='test-topic-2', partition=0, topic_partition=TopicPartition(topic='test-topic-2', partition=0), offset=37, timestamp=1694925037860, log_start_offset=0, checksum=None, serialized_key_size=-1, serialized_value_size=180, serialized_header_size=-1)\n",
      "c3991a02-7145-439d-b329-9a17053113f9 RecordMetadata(topic='test-topic-2', partition=0, topic_partition=TopicPartition(topic='test-topic-2', partition=0), offset=38, timestamp=1694925047872, log_start_offset=0, checksum=None, serialized_key_size=-1, serialized_value_size=186, serialized_header_size=-1)\n",
      "b7afc889-869f-4f3a-903e-d1e300e167bc RecordMetadata(topic='test-topic-2', partition=0, topic_partition=TopicPartition(topic='test-topic-2', partition=0), offset=39, timestamp=1694925057888, log_start_offset=0, checksum=None, serialized_key_size=-1, serialized_value_size=180, serialized_header_size=-1)\n",
      "3300c309-8748-4b59-bad7-a3f2a594c952 RecordMetadata(topic='test-topic-2', partition=0, topic_partition=TopicPartition(topic='test-topic-2', partition=0), offset=40, timestamp=1694925067909, log_start_offset=0, checksum=None, serialized_key_size=-1, serialized_value_size=183, serialized_header_size=-1)\n",
      "bf565eee-a7e5-499d-957e-1becd362007b RecordMetadata(topic='test-topic-2', partition=0, topic_partition=TopicPartition(topic='test-topic-2', partition=0), offset=41, timestamp=1694925077932, log_start_offset=0, checksum=None, serialized_key_size=-1, serialized_value_size=182, serialized_header_size=-1)\n",
      "15e82967-fb43-4570-a5ca-e92caf0e0d4e RecordMetadata(topic='test-topic-2', partition=0, topic_partition=TopicPartition(topic='test-topic-2', partition=0), offset=42, timestamp=1694925087954, log_start_offset=0, checksum=None, serialized_key_size=-1, serialized_value_size=178, serialized_header_size=-1)\n",
      "7f3b5138-84f4-477c-ac41-e6de78fa7351 RecordMetadata(topic='test-topic-2', partition=0, topic_partition=TopicPartition(topic='test-topic-2', partition=0), offset=43, timestamp=1694925097975, log_start_offset=0, checksum=None, serialized_key_size=-1, serialized_value_size=182, serialized_header_size=-1)\n",
      "c5e07bb5-2ca1-473a-b941-9eee7526cc77 RecordMetadata(topic='test-topic-2', partition=0, topic_partition=TopicPartition(topic='test-topic-2', partition=0), offset=44, timestamp=1694925107991, log_start_offset=0, checksum=None, serialized_key_size=-1, serialized_value_size=185, serialized_header_size=-1)\n",
      "5b6a512f-dcf8-4c69-8766-d993f8b476f2 RecordMetadata(topic='test-topic-2', partition=0, topic_partition=TopicPartition(topic='test-topic-2', partition=0), offset=45, timestamp=1694925118019, log_start_offset=0, checksum=None, serialized_key_size=-1, serialized_value_size=186, serialized_header_size=-1)\n",
      "40fbbce8-2664-4b6b-bb81-4cdc759311ab RecordMetadata(topic='test-topic-2', partition=0, topic_partition=TopicPartition(topic='test-topic-2', partition=0), offset=46, timestamp=1694925128033, log_start_offset=0, checksum=None, serialized_key_size=-1, serialized_value_size=183, serialized_header_size=-1)\n",
      "ee5937d6-d362-4f13-b5c1-9dfd91aba1e4 RecordMetadata(topic='test-topic-2', partition=0, topic_partition=TopicPartition(topic='test-topic-2', partition=0), offset=47, timestamp=1694925138050, log_start_offset=0, checksum=None, serialized_key_size=-1, serialized_value_size=182, serialized_header_size=-1)\n",
      "938dd3fb-df42-4107-b25d-040384c24602 RecordMetadata(topic='test-topic-2', partition=0, topic_partition=TopicPartition(topic='test-topic-2', partition=0), offset=48, timestamp=1694925148069, log_start_offset=0, checksum=None, serialized_key_size=-1, serialized_value_size=178, serialized_header_size=-1)\n",
      "ec3bdae3-ea27-4f0c-8665-7b3aa0aca5c0 RecordMetadata(topic='test-topic-2', partition=0, topic_partition=TopicPartition(topic='test-topic-2', partition=0), offset=49, timestamp=1694925158078, log_start_offset=0, checksum=None, serialized_key_size=-1, serialized_value_size=189, serialized_header_size=-1)\n",
      "0cf6adb7-c254-43df-9001-6260b410b40c RecordMetadata(topic='test-topic-2', partition=0, topic_partition=TopicPartition(topic='test-topic-2', partition=0), offset=50, timestamp=1694925168099, log_start_offset=0, checksum=None, serialized_key_size=-1, serialized_value_size=184, serialized_header_size=-1)\n",
      "a0c0f9b5-741b-4fd5-a4b5-dfc3990dda05 RecordMetadata(topic='test-topic-2', partition=0, topic_partition=TopicPartition(topic='test-topic-2', partition=0), offset=51, timestamp=1694925178121, log_start_offset=0, checksum=None, serialized_key_size=-1, serialized_value_size=182, serialized_header_size=-1)\n",
      "3044c724-d70c-4226-a8ff-fe247e7d00ee RecordMetadata(topic='test-topic-2', partition=0, topic_partition=TopicPartition(topic='test-topic-2', partition=0), offset=52, timestamp=1694925188148, log_start_offset=0, checksum=None, serialized_key_size=-1, serialized_value_size=184, serialized_header_size=-1)\n",
      "bed695e8-fda8-4de0-ae6f-be59e228ca4c RecordMetadata(topic='test-topic-2', partition=0, topic_partition=TopicPartition(topic='test-topic-2', partition=0), offset=53, timestamp=1694925198166, log_start_offset=0, checksum=None, serialized_key_size=-1, serialized_value_size=189, serialized_header_size=-1)\n",
      "39d193a6-7813-48c2-8cba-821c5ff75108 RecordMetadata(topic='test-topic-2', partition=0, topic_partition=TopicPartition(topic='test-topic-2', partition=0), offset=54, timestamp=1694925208188, log_start_offset=0, checksum=None, serialized_key_size=-1, serialized_value_size=189, serialized_header_size=-1)\n",
      "73f07a50-981c-4c7d-90b2-84b690a02eaa RecordMetadata(topic='test-topic-2', partition=0, topic_partition=TopicPartition(topic='test-topic-2', partition=0), offset=55, timestamp=1694925218207, log_start_offset=0, checksum=None, serialized_key_size=-1, serialized_value_size=186, serialized_header_size=-1)\n",
      "27987196-89a2-42f8-bfbe-7c24299928ec RecordMetadata(topic='test-topic-2', partition=0, topic_partition=TopicPartition(topic='test-topic-2', partition=0), offset=56, timestamp=1694925228214, log_start_offset=0, checksum=None, serialized_key_size=-1, serialized_value_size=179, serialized_header_size=-1)\n",
      "50e9e7e1-9520-411e-a915-2942f04eeabb RecordMetadata(topic='test-topic-2', partition=0, topic_partition=TopicPartition(topic='test-topic-2', partition=0), offset=57, timestamp=1694925238231, log_start_offset=0, checksum=None, serialized_key_size=-1, serialized_value_size=186, serialized_header_size=-1)\n",
      "f0648f4c-61df-431f-9bde-a549e3e58e61 RecordMetadata(topic='test-topic-2', partition=0, topic_partition=TopicPartition(topic='test-topic-2', partition=0), offset=58, timestamp=1694925248250, log_start_offset=0, checksum=None, serialized_key_size=-1, serialized_value_size=184, serialized_header_size=-1)\n",
      "d97f2320-5a20-4dd8-bc6b-1f67c0394430 RecordMetadata(topic='test-topic-2', partition=0, topic_partition=TopicPartition(topic='test-topic-2', partition=0), offset=59, timestamp=1694925258270, log_start_offset=0, checksum=None, serialized_key_size=-1, serialized_value_size=189, serialized_header_size=-1)\n",
      "b0e50965-7e02-4e47-841e-c05c4dbab93f RecordMetadata(topic='test-topic-2', partition=0, topic_partition=TopicPartition(topic='test-topic-2', partition=0), offset=60, timestamp=1694925268278, log_start_offset=0, checksum=None, serialized_key_size=-1, serialized_value_size=185, serialized_header_size=-1)\n",
      "7ad4e05a-ef8d-4e21-b42b-3fd443677b9e RecordMetadata(topic='test-topic-2', partition=0, topic_partition=TopicPartition(topic='test-topic-2', partition=0), offset=61, timestamp=1694925278295, log_start_offset=0, checksum=None, serialized_key_size=-1, serialized_value_size=180, serialized_header_size=-1)\n",
      "32da792a-de2d-42d3-b49a-70d67ac0f70d RecordMetadata(topic='test-topic-2', partition=0, topic_partition=TopicPartition(topic='test-topic-2', partition=0), offset=62, timestamp=1694925288315, log_start_offset=0, checksum=None, serialized_key_size=-1, serialized_value_size=190, serialized_header_size=-1)\n",
      "b032ab5b-29b6-48c5-87c8-a96c6d1674f0 RecordMetadata(topic='test-topic-2', partition=0, topic_partition=TopicPartition(topic='test-topic-2', partition=0), offset=63, timestamp=1694925298329, log_start_offset=0, checksum=None, serialized_key_size=-1, serialized_value_size=181, serialized_header_size=-1)\n",
      "61d0b0c0-82bd-4cf6-8567-de3b4181a6d3 RecordMetadata(topic='test-topic-2', partition=0, topic_partition=TopicPartition(topic='test-topic-2', partition=0), offset=64, timestamp=1694925308351, log_start_offset=0, checksum=None, serialized_key_size=-1, serialized_value_size=187, serialized_header_size=-1)\n",
      "c1298065-f750-42ee-a0f6-2d8f424ed877 RecordMetadata(topic='test-topic-2', partition=0, topic_partition=TopicPartition(topic='test-topic-2', partition=0), offset=65, timestamp=1694925318381, log_start_offset=0, checksum=None, serialized_key_size=-1, serialized_value_size=185, serialized_header_size=-1)\n",
      "adeb4018-73c4-4989-a647-a663e55507c9 RecordMetadata(topic='test-topic-2', partition=0, topic_partition=TopicPartition(topic='test-topic-2', partition=0), offset=66, timestamp=1694925328412, log_start_offset=0, checksum=None, serialized_key_size=-1, serialized_value_size=185, serialized_header_size=-1)\n",
      "a7940b76-47ad-4543-9dda-a759cd1d9b6d RecordMetadata(topic='test-topic-2', partition=0, topic_partition=TopicPartition(topic='test-topic-2', partition=0), offset=67, timestamp=1694925338428, log_start_offset=0, checksum=None, serialized_key_size=-1, serialized_value_size=189, serialized_header_size=-1)\n",
      "311dc74a-e847-47b1-8878-fc80c5505125 RecordMetadata(topic='test-topic-2', partition=0, topic_partition=TopicPartition(topic='test-topic-2', partition=0), offset=68, timestamp=1694925348441, log_start_offset=0, checksum=None, serialized_key_size=-1, serialized_value_size=183, serialized_header_size=-1)\n",
      "699e3ae3-5277-4a3b-95ba-3292e49165de RecordMetadata(topic='test-topic-2', partition=0, topic_partition=TopicPartition(topic='test-topic-2', partition=0), offset=69, timestamp=1694925358460, log_start_offset=0, checksum=None, serialized_key_size=-1, serialized_value_size=181, serialized_header_size=-1)\n",
      "a46317d7-bfb3-44e6-a1c8-2bd6d1c0be9f RecordMetadata(topic='test-topic-2', partition=0, topic_partition=TopicPartition(topic='test-topic-2', partition=0), offset=70, timestamp=1694925368572, log_start_offset=0, checksum=None, serialized_key_size=-1, serialized_value_size=179, serialized_header_size=-1)\n",
      "4a5c4f07-bfcf-42b1-9d7d-2d983663241d RecordMetadata(topic='test-topic-2', partition=0, topic_partition=TopicPartition(topic='test-topic-2', partition=0), offset=71, timestamp=1694925378642, log_start_offset=0, checksum=None, serialized_key_size=-1, serialized_value_size=186, serialized_header_size=-1)\n",
      "0cd262f4-ccf3-4ef2-95fc-fab821e8c02e RecordMetadata(topic='test-topic-2', partition=0, topic_partition=TopicPartition(topic='test-topic-2', partition=0), offset=72, timestamp=1694925388662, log_start_offset=0, checksum=None, serialized_key_size=-1, serialized_value_size=189, serialized_header_size=-1)\n",
      "f82b3816-651c-4351-836a-e192503a8af1 RecordMetadata(topic='test-topic-2', partition=0, topic_partition=TopicPartition(topic='test-topic-2', partition=0), offset=73, timestamp=1694925398692, log_start_offset=0, checksum=None, serialized_key_size=-1, serialized_value_size=179, serialized_header_size=-1)\n",
      "77fb1604-9602-4a1f-bdef-93dbf585e449 RecordMetadata(topic='test-topic-2', partition=0, topic_partition=TopicPartition(topic='test-topic-2', partition=0), offset=74, timestamp=1694925408714, log_start_offset=0, checksum=None, serialized_key_size=-1, serialized_value_size=180, serialized_header_size=-1)\n",
      "3b519008-22da-4b33-bd80-092a80b44842 RecordMetadata(topic='test-topic-2', partition=0, topic_partition=TopicPartition(topic='test-topic-2', partition=0), offset=75, timestamp=1694925418737, log_start_offset=0, checksum=None, serialized_key_size=-1, serialized_value_size=182, serialized_header_size=-1)\n",
      "31d7052e-7a0c-438e-ad90-15bc4a6b7749 RecordMetadata(topic='test-topic-2', partition=0, topic_partition=TopicPartition(topic='test-topic-2', partition=0), offset=76, timestamp=1694925428764, log_start_offset=0, checksum=None, serialized_key_size=-1, serialized_value_size=179, serialized_header_size=-1)\n",
      "97788456-0656-465d-8807-ff9ca04b7dfe RecordMetadata(topic='test-topic-2', partition=0, topic_partition=TopicPartition(topic='test-topic-2', partition=0), offset=77, timestamp=1694925438800, log_start_offset=0, checksum=None, serialized_key_size=-1, serialized_value_size=181, serialized_header_size=-1)\n",
      "5d1fed3d-5219-4f62-a35f-d1067072c5b2 RecordMetadata(topic='test-topic-2', partition=0, topic_partition=TopicPartition(topic='test-topic-2', partition=0), offset=78, timestamp=1694925448820, log_start_offset=0, checksum=None, serialized_key_size=-1, serialized_value_size=181, serialized_header_size=-1)\n",
      "c36cc67b-fc57-4524-8758-848446a685b2 RecordMetadata(topic='test-topic-2', partition=0, topic_partition=TopicPartition(topic='test-topic-2', partition=0), offset=79, timestamp=1694925458838, log_start_offset=0, checksum=None, serialized_key_size=-1, serialized_value_size=177, serialized_header_size=-1)\n",
      "b3c394e9-fc27-483c-b1b0-c015100fab00 RecordMetadata(topic='test-topic-2', partition=0, topic_partition=TopicPartition(topic='test-topic-2', partition=0), offset=80, timestamp=1694925468856, log_start_offset=0, checksum=None, serialized_key_size=-1, serialized_value_size=181, serialized_header_size=-1)\n",
      "ab0b43ac-e250-4e08-a7a9-8bddc7d53082 RecordMetadata(topic='test-topic-2', partition=0, topic_partition=TopicPartition(topic='test-topic-2', partition=0), offset=81, timestamp=1694925478883, log_start_offset=0, checksum=None, serialized_key_size=-1, serialized_value_size=181, serialized_header_size=-1)\n",
      "514eeaf0-d358-4be1-83fb-e3b0612d9a41 RecordMetadata(topic='test-topic-2', partition=0, topic_partition=TopicPartition(topic='test-topic-2', partition=0), offset=82, timestamp=1694925488896, log_start_offset=0, checksum=None, serialized_key_size=-1, serialized_value_size=187, serialized_header_size=-1)\n",
      "d621afbb-a758-43cb-afc6-504cc06baf29 RecordMetadata(topic='test-topic-2', partition=0, topic_partition=TopicPartition(topic='test-topic-2', partition=0), offset=83, timestamp=1694925498908, log_start_offset=0, checksum=None, serialized_key_size=-1, serialized_value_size=180, serialized_header_size=-1)\n",
      "363bed41-d322-4f96-8f17-136b19ad24f0 RecordMetadata(topic='test-topic-2', partition=0, topic_partition=TopicPartition(topic='test-topic-2', partition=0), offset=84, timestamp=1694925508926, log_start_offset=0, checksum=None, serialized_key_size=-1, serialized_value_size=182, serialized_header_size=-1)\n",
      "821c290f-8e11-40bd-9579-57f192a800cd RecordMetadata(topic='test-topic-2', partition=0, topic_partition=TopicPartition(topic='test-topic-2', partition=0), offset=85, timestamp=1694925518942, log_start_offset=0, checksum=None, serialized_key_size=-1, serialized_value_size=186, serialized_header_size=-1)\n",
      "9fd58643-7e99-4e42-be65-31dfdca6db8f RecordMetadata(topic='test-topic-2', partition=0, topic_partition=TopicPartition(topic='test-topic-2', partition=0), offset=86, timestamp=1694925528958, log_start_offset=0, checksum=None, serialized_key_size=-1, serialized_value_size=177, serialized_header_size=-1)\n",
      "1987b222-8447-4f68-a7a9-76c9b8e5d5d0 RecordMetadata(topic='test-topic-2', partition=0, topic_partition=TopicPartition(topic='test-topic-2', partition=0), offset=87, timestamp=1694925538971, log_start_offset=0, checksum=None, serialized_key_size=-1, serialized_value_size=184, serialized_header_size=-1)\n",
      "e9235589-fa09-4c88-b589-186deb609d4c RecordMetadata(topic='test-topic-2', partition=0, topic_partition=TopicPartition(topic='test-topic-2', partition=0), offset=88, timestamp=1694925548978, log_start_offset=0, checksum=None, serialized_key_size=-1, serialized_value_size=179, serialized_header_size=-1)\n",
      "4a41928f-3dfa-4a0e-83b9-d3417e689b2e RecordMetadata(topic='test-topic-2', partition=0, topic_partition=TopicPartition(topic='test-topic-2', partition=0), offset=89, timestamp=1694925558996, log_start_offset=0, checksum=None, serialized_key_size=-1, serialized_value_size=178, serialized_header_size=-1)\n",
      "e8e59787-ccd7-44c1-b706-64c76cfd57d9 RecordMetadata(topic='test-topic-2', partition=0, topic_partition=TopicPartition(topic='test-topic-2', partition=0), offset=90, timestamp=1694925569014, log_start_offset=0, checksum=None, serialized_key_size=-1, serialized_value_size=179, serialized_header_size=-1)\n",
      "8a5c0fbf-8b4c-4b5e-b57e-bfd708041f8b RecordMetadata(topic='test-topic-2', partition=0, topic_partition=TopicPartition(topic='test-topic-2', partition=0), offset=91, timestamp=1694925579030, log_start_offset=0, checksum=None, serialized_key_size=-1, serialized_value_size=185, serialized_header_size=-1)\n",
      "1d5cea77-def6-43e5-8a8b-c151e7e1ee27 RecordMetadata(topic='test-topic-2', partition=0, topic_partition=TopicPartition(topic='test-topic-2', partition=0), offset=92, timestamp=1694925589046, log_start_offset=0, checksum=None, serialized_key_size=-1, serialized_value_size=186, serialized_header_size=-1)\n",
      "7e964c3b-2710-4096-957a-2b99c0fb2ab2 RecordMetadata(topic='test-topic-2', partition=0, topic_partition=TopicPartition(topic='test-topic-2', partition=0), offset=93, timestamp=1694925599058, log_start_offset=0, checksum=None, serialized_key_size=-1, serialized_value_size=175, serialized_header_size=-1)\n",
      "bdbead60-dfe8-49e9-a171-6156b556a5f7 RecordMetadata(topic='test-topic-2', partition=0, topic_partition=TopicPartition(topic='test-topic-2', partition=0), offset=94, timestamp=1694925609070, log_start_offset=0, checksum=None, serialized_key_size=-1, serialized_value_size=183, serialized_header_size=-1)\n",
      "98857ef0-276d-43cb-b437-2e98d58275bb RecordMetadata(topic='test-topic-2', partition=0, topic_partition=TopicPartition(topic='test-topic-2', partition=0), offset=95, timestamp=1694925619084, log_start_offset=0, checksum=None, serialized_key_size=-1, serialized_value_size=193, serialized_header_size=-1)\n",
      "f6f286ad-ea6e-41bc-ab21-0f1e98d897be RecordMetadata(topic='test-topic-2', partition=0, topic_partition=TopicPartition(topic='test-topic-2', partition=0), offset=96, timestamp=1694925629101, log_start_offset=0, checksum=None, serialized_key_size=-1, serialized_value_size=180, serialized_header_size=-1)\n",
      "3661f18d-2d11-4e45-b216-ebbe40e40e7b RecordMetadata(topic='test-topic-2', partition=0, topic_partition=TopicPartition(topic='test-topic-2', partition=0), offset=97, timestamp=1694925639118, log_start_offset=0, checksum=None, serialized_key_size=-1, serialized_value_size=181, serialized_header_size=-1)\n",
      "00aa00f6-14a8-401b-9143-7b1ff39ded0e RecordMetadata(topic='test-topic-2', partition=0, topic_partition=TopicPartition(topic='test-topic-2', partition=0), offset=98, timestamp=1694925649135, log_start_offset=0, checksum=None, serialized_key_size=-1, serialized_value_size=192, serialized_header_size=-1)\n",
      "0b1b6bd7-ff45-4fb3-965e-d34c4bf6df08 RecordMetadata(topic='test-topic-2', partition=0, topic_partition=TopicPartition(topic='test-topic-2', partition=0), offset=99, timestamp=1694925659151, log_start_offset=0, checksum=None, serialized_key_size=-1, serialized_value_size=183, serialized_header_size=-1)\n",
      "cf7cc4c3-06b6-4927-a781-e1aecc9ac5c4 RecordMetadata(topic='test-topic-2', partition=0, topic_partition=TopicPartition(topic='test-topic-2', partition=0), offset=100, timestamp=1694925669162, log_start_offset=0, checksum=None, serialized_key_size=-1, serialized_value_size=183, serialized_header_size=-1)\n",
      "51d6d899-46b9-43eb-905d-08e9915831ff RecordMetadata(topic='test-topic-2', partition=0, topic_partition=TopicPartition(topic='test-topic-2', partition=0), offset=101, timestamp=1694925679180, log_start_offset=0, checksum=None, serialized_key_size=-1, serialized_value_size=180, serialized_header_size=-1)\n",
      "52e98987-08dd-4e59-8f99-653e8783d92a RecordMetadata(topic='test-topic-2', partition=0, topic_partition=TopicPartition(topic='test-topic-2', partition=0), offset=102, timestamp=1694925689197, log_start_offset=0, checksum=None, serialized_key_size=-1, serialized_value_size=189, serialized_header_size=-1)\n",
      "dd2665d3-37b5-4fbb-9bd5-8cc63c29b2df RecordMetadata(topic='test-topic-2', partition=0, topic_partition=TopicPartition(topic='test-topic-2', partition=0), offset=103, timestamp=1694925699221, log_start_offset=0, checksum=None, serialized_key_size=-1, serialized_value_size=180, serialized_header_size=-1)\n",
      "56b37059-c454-44e1-966e-04bd13acddb5 RecordMetadata(topic='test-topic-2', partition=0, topic_partition=TopicPartition(topic='test-topic-2', partition=0), offset=104, timestamp=1694925709237, log_start_offset=0, checksum=None, serialized_key_size=-1, serialized_value_size=185, serialized_header_size=-1)\n",
      "114e6bc9-ebb9-4938-b900-d8e781e8eb9a RecordMetadata(topic='test-topic-2', partition=0, topic_partition=TopicPartition(topic='test-topic-2', partition=0), offset=105, timestamp=1694925719255, log_start_offset=0, checksum=None, serialized_key_size=-1, serialized_value_size=186, serialized_header_size=-1)\n",
      "c2869b94-2016-40fa-bf14-8c15c8bdee20 RecordMetadata(topic='test-topic-2', partition=0, topic_partition=TopicPartition(topic='test-topic-2', partition=0), offset=106, timestamp=1694925729274, log_start_offset=0, checksum=None, serialized_key_size=-1, serialized_value_size=188, serialized_header_size=-1)\n",
      "5ec3a743-02d6-48f8-b863-4e2eae313abd RecordMetadata(topic='test-topic-2', partition=0, topic_partition=TopicPartition(topic='test-topic-2', partition=0), offset=107, timestamp=1694925739280, log_start_offset=0, checksum=None, serialized_key_size=-1, serialized_value_size=180, serialized_header_size=-1)\n",
      "ab3eaea0-676e-4f2b-8337-405c40343bd6 RecordMetadata(topic='test-topic-2', partition=0, topic_partition=TopicPartition(topic='test-topic-2', partition=0), offset=108, timestamp=1694925749299, log_start_offset=0, checksum=None, serialized_key_size=-1, serialized_value_size=188, serialized_header_size=-1)\n",
      "1d416eb0-007c-44cc-af97-41d08d65cabf RecordMetadata(topic='test-topic-2', partition=0, topic_partition=TopicPartition(topic='test-topic-2', partition=0), offset=109, timestamp=1694925759318, log_start_offset=0, checksum=None, serialized_key_size=-1, serialized_value_size=184, serialized_header_size=-1)\n",
      "95bed932-5e32-4f52-99ea-9711a37d1f52 RecordMetadata(topic='test-topic-2', partition=0, topic_partition=TopicPartition(topic='test-topic-2', partition=0), offset=110, timestamp=1694925769338, log_start_offset=0, checksum=None, serialized_key_size=-1, serialized_value_size=181, serialized_header_size=-1)\n",
      "c1e08215-fb67-409c-a512-f2931e5e1f50 RecordMetadata(topic='test-topic-2', partition=0, topic_partition=TopicPartition(topic='test-topic-2', partition=0), offset=111, timestamp=1694925779354, log_start_offset=0, checksum=None, serialized_key_size=-1, serialized_value_size=182, serialized_header_size=-1)\n",
      "53c5047b-389c-4342-bb91-e0df6731d252 RecordMetadata(topic='test-topic-2', partition=0, topic_partition=TopicPartition(topic='test-topic-2', partition=0), offset=112, timestamp=1694925789369, log_start_offset=0, checksum=None, serialized_key_size=-1, serialized_value_size=176, serialized_header_size=-1)\n",
      "e502552a-669f-4770-bce4-21ed0141dc7d RecordMetadata(topic='test-topic-2', partition=0, topic_partition=TopicPartition(topic='test-topic-2', partition=0), offset=113, timestamp=1694925799381, log_start_offset=0, checksum=None, serialized_key_size=-1, serialized_value_size=182, serialized_header_size=-1)\n",
      "132316b6-3794-4043-baee-4cb9c28c6308 RecordMetadata(topic='test-topic-2', partition=0, topic_partition=TopicPartition(topic='test-topic-2', partition=0), offset=114, timestamp=1694925809397, log_start_offset=0, checksum=None, serialized_key_size=-1, serialized_value_size=183, serialized_header_size=-1)\n",
      "a2086436-d452-4e64-b970-2695a5a136c3 RecordMetadata(topic='test-topic-2', partition=0, topic_partition=TopicPartition(topic='test-topic-2', partition=0), offset=115, timestamp=1694925819413, log_start_offset=0, checksum=None, serialized_key_size=-1, serialized_value_size=183, serialized_header_size=-1)\n",
      "f531648b-1805-468e-834b-21040e41b317 RecordMetadata(topic='test-topic-2', partition=0, topic_partition=TopicPartition(topic='test-topic-2', partition=0), offset=116, timestamp=1694925829428, log_start_offset=0, checksum=None, serialized_key_size=-1, serialized_value_size=187, serialized_header_size=-1)\n",
      "ca408f24-34c3-4ecd-8148-441d51f5d278 RecordMetadata(topic='test-topic-2', partition=0, topic_partition=TopicPartition(topic='test-topic-2', partition=0), offset=117, timestamp=1694925839446, log_start_offset=0, checksum=None, serialized_key_size=-1, serialized_value_size=181, serialized_header_size=-1)\n",
      "c5000bd5-109e-4074-9721-8d68389e1f26 RecordMetadata(topic='test-topic-2', partition=0, topic_partition=TopicPartition(topic='test-topic-2', partition=0), offset=118, timestamp=1694925849464, log_start_offset=0, checksum=None, serialized_key_size=-1, serialized_value_size=184, serialized_header_size=-1)\n",
      "ee299c92-f51c-4c2d-9490-b52daa761e7d RecordMetadata(topic='test-topic-2', partition=0, topic_partition=TopicPartition(topic='test-topic-2', partition=0), offset=119, timestamp=1694925859480, log_start_offset=0, checksum=None, serialized_key_size=-1, serialized_value_size=189, serialized_header_size=-1)\n",
      "48c8eb4d-13f2-45a6-9571-1631c2b67812 RecordMetadata(topic='test-topic-2', partition=0, topic_partition=TopicPartition(topic='test-topic-2', partition=0), offset=120, timestamp=1694925869491, log_start_offset=0, checksum=None, serialized_key_size=-1, serialized_value_size=185, serialized_header_size=-1)\n",
      "8da61564-df09-4011-8aa2-a4cb88755e9d RecordMetadata(topic='test-topic-2', partition=0, topic_partition=TopicPartition(topic='test-topic-2', partition=0), offset=121, timestamp=1694925879510, log_start_offset=0, checksum=None, serialized_key_size=-1, serialized_value_size=183, serialized_header_size=-1)\n",
      "f29ab42e-c0c2-47f7-a17f-c4733be70ac7 RecordMetadata(topic='test-topic-2', partition=0, topic_partition=TopicPartition(topic='test-topic-2', partition=0), offset=122, timestamp=1694925889523, log_start_offset=0, checksum=None, serialized_key_size=-1, serialized_value_size=182, serialized_header_size=-1)\n",
      "eb3047e6-4225-4d52-aae7-7e9e98e62973 RecordMetadata(topic='test-topic-2', partition=0, topic_partition=TopicPartition(topic='test-topic-2', partition=0), offset=123, timestamp=1694925899531, log_start_offset=0, checksum=None, serialized_key_size=-1, serialized_value_size=193, serialized_header_size=-1)\n",
      "ee03ca57-ae6e-4ea2-a912-01e994b43c18 RecordMetadata(topic='test-topic-2', partition=0, topic_partition=TopicPartition(topic='test-topic-2', partition=0), offset=124, timestamp=1694925909541, log_start_offset=0, checksum=None, serialized_key_size=-1, serialized_value_size=180, serialized_header_size=-1)\n",
      "a1ac40b3-2637-4c35-a186-dda2f02f8f6e RecordMetadata(topic='test-topic-2', partition=0, topic_partition=TopicPartition(topic='test-topic-2', partition=0), offset=125, timestamp=1694925919555, log_start_offset=0, checksum=None, serialized_key_size=-1, serialized_value_size=182, serialized_header_size=-1)\n",
      "1ff78a8e-049e-4f64-a73d-8aa9afc31169 RecordMetadata(topic='test-topic-2', partition=0, topic_partition=TopicPartition(topic='test-topic-2', partition=0), offset=126, timestamp=1694925929564, log_start_offset=0, checksum=None, serialized_key_size=-1, serialized_value_size=183, serialized_header_size=-1)\n",
      "25d1e2a9-556e-4106-a29f-1cf63aa3c3fe RecordMetadata(topic='test-topic-2', partition=0, topic_partition=TopicPartition(topic='test-topic-2', partition=0), offset=127, timestamp=1694925939575, log_start_offset=0, checksum=None, serialized_key_size=-1, serialized_value_size=185, serialized_header_size=-1)\n",
      "2d225886-6837-47ce-b0cc-e694742b2afc RecordMetadata(topic='test-topic-2', partition=0, topic_partition=TopicPartition(topic='test-topic-2', partition=0), offset=128, timestamp=1694925949584, log_start_offset=0, checksum=None, serialized_key_size=-1, serialized_value_size=191, serialized_header_size=-1)\n",
      "252e3ee3-b3cb-4eb4-b530-23e15bdd946a RecordMetadata(topic='test-topic-2', partition=0, topic_partition=TopicPartition(topic='test-topic-2', partition=0), offset=129, timestamp=1694925959597, log_start_offset=0, checksum=None, serialized_key_size=-1, serialized_value_size=179, serialized_header_size=-1)\n",
      "71ded00f-483a-4e70-a706-de3d6cc90b78 RecordMetadata(topic='test-topic-2', partition=0, topic_partition=TopicPartition(topic='test-topic-2', partition=0), offset=130, timestamp=1694925969609, log_start_offset=0, checksum=None, serialized_key_size=-1, serialized_value_size=179, serialized_header_size=-1)\n",
      "b66e14c6-06cf-45d3-8d8b-84b1dd3287de RecordMetadata(topic='test-topic-2', partition=0, topic_partition=TopicPartition(topic='test-topic-2', partition=0), offset=131, timestamp=1694925979617, log_start_offset=0, checksum=None, serialized_key_size=-1, serialized_value_size=183, serialized_header_size=-1)\n",
      "3bbe0f8c-41c0-4180-97ff-cd754b8e3977 RecordMetadata(topic='test-topic-2', partition=0, topic_partition=TopicPartition(topic='test-topic-2', partition=0), offset=132, timestamp=1694925989627, log_start_offset=0, checksum=None, serialized_key_size=-1, serialized_value_size=180, serialized_header_size=-1)\n",
      "15469dfd-44f5-4b67-8446-3035333be529 RecordMetadata(topic='test-topic-2', partition=0, topic_partition=TopicPartition(topic='test-topic-2', partition=0), offset=133, timestamp=1694925999644, log_start_offset=0, checksum=None, serialized_key_size=-1, serialized_value_size=184, serialized_header_size=-1)\n",
      "fd2d890a-c456-4972-a78d-aa39364ea0ba RecordMetadata(topic='test-topic-2', partition=0, topic_partition=TopicPartition(topic='test-topic-2', partition=0), offset=134, timestamp=1694926009663, log_start_offset=0, checksum=None, serialized_key_size=-1, serialized_value_size=190, serialized_header_size=-1)\n",
      "d4fb5374-222f-484b-8891-5962ae13f35a RecordMetadata(topic='test-topic-2', partition=0, topic_partition=TopicPartition(topic='test-topic-2', partition=0), offset=135, timestamp=1694926019683, log_start_offset=0, checksum=None, serialized_key_size=-1, serialized_value_size=190, serialized_header_size=-1)\n",
      "b00b2dde-98b1-407e-8bdb-f3ee87b5fc91 RecordMetadata(topic='test-topic-2', partition=0, topic_partition=TopicPartition(topic='test-topic-2', partition=0), offset=136, timestamp=1694926029699, log_start_offset=0, checksum=None, serialized_key_size=-1, serialized_value_size=189, serialized_header_size=-1)\n",
      "614b0938-aea1-41c1-84ce-c662ccb11fe8 RecordMetadata(topic='test-topic-2', partition=0, topic_partition=TopicPartition(topic='test-topic-2', partition=0), offset=137, timestamp=1694926039703, log_start_offset=0, checksum=None, serialized_key_size=-1, serialized_value_size=184, serialized_header_size=-1)\n",
      "54906c49-2c1f-4121-954b-ba1025dc0eba RecordMetadata(topic='test-topic-2', partition=0, topic_partition=TopicPartition(topic='test-topic-2', partition=0), offset=138, timestamp=1694926049714, log_start_offset=0, checksum=None, serialized_key_size=-1, serialized_value_size=180, serialized_header_size=-1)\n",
      "ced9f38a-41f4-44db-a68d-aa8b7e29e5fe RecordMetadata(topic='test-topic-2', partition=0, topic_partition=TopicPartition(topic='test-topic-2', partition=0), offset=139, timestamp=1694926059729, log_start_offset=0, checksum=None, serialized_key_size=-1, serialized_value_size=180, serialized_header_size=-1)\n",
      "858e54d6-12f8-4992-854d-c85c43194e56 RecordMetadata(topic='test-topic-2', partition=0, topic_partition=TopicPartition(topic='test-topic-2', partition=0), offset=140, timestamp=1694926069735, log_start_offset=0, checksum=None, serialized_key_size=-1, serialized_value_size=182, serialized_header_size=-1)\n",
      "c3d58bae-8d50-4f90-9644-720328259911 RecordMetadata(topic='test-topic-2', partition=0, topic_partition=TopicPartition(topic='test-topic-2', partition=0), offset=141, timestamp=1694926079746, log_start_offset=0, checksum=None, serialized_key_size=-1, serialized_value_size=180, serialized_header_size=-1)\n",
      "377fc122-36c6-4768-9908-84168c9a2709 RecordMetadata(topic='test-topic-2', partition=0, topic_partition=TopicPartition(topic='test-topic-2', partition=0), offset=142, timestamp=1694926089782, log_start_offset=0, checksum=None, serialized_key_size=-1, serialized_value_size=181, serialized_header_size=-1)\n",
      "f7b9b5bf-f0a2-405c-a997-92b49267c183 RecordMetadata(topic='test-topic-2', partition=0, topic_partition=TopicPartition(topic='test-topic-2', partition=0), offset=143, timestamp=1694926099790, log_start_offset=0, checksum=None, serialized_key_size=-1, serialized_value_size=189, serialized_header_size=-1)\n",
      "efac9d0c-c54a-4722-864c-dc1626d0c4a1 RecordMetadata(topic='test-topic-2', partition=0, topic_partition=TopicPartition(topic='test-topic-2', partition=0), offset=144, timestamp=1694926109811, log_start_offset=0, checksum=None, serialized_key_size=-1, serialized_value_size=180, serialized_header_size=-1)\n",
      "cf29e044-90bc-4a65-a1f8-c4c5842e09cc RecordMetadata(topic='test-topic-2', partition=0, topic_partition=TopicPartition(topic='test-topic-2', partition=0), offset=145, timestamp=1694926119832, log_start_offset=0, checksum=None, serialized_key_size=-1, serialized_value_size=177, serialized_header_size=-1)\n",
      "40844411-2144-4cc0-a5ce-5f57de832b0e RecordMetadata(topic='test-topic-2', partition=0, topic_partition=TopicPartition(topic='test-topic-2', partition=0), offset=146, timestamp=1694926129850, log_start_offset=0, checksum=None, serialized_key_size=-1, serialized_value_size=183, serialized_header_size=-1)\n",
      "70217828-6037-4322-84be-47fea0f4efb6 RecordMetadata(topic='test-topic-2', partition=0, topic_partition=TopicPartition(topic='test-topic-2', partition=0), offset=147, timestamp=1694926139867, log_start_offset=0, checksum=None, serialized_key_size=-1, serialized_value_size=185, serialized_header_size=-1)\n",
      "b6c35e3d-e4cd-4d35-85c7-ad50b8fad13b RecordMetadata(topic='test-topic-2', partition=0, topic_partition=TopicPartition(topic='test-topic-2', partition=0), offset=148, timestamp=1694926149877, log_start_offset=0, checksum=None, serialized_key_size=-1, serialized_value_size=179, serialized_header_size=-1)\n",
      "2b525f79-4181-447d-9b40-9738fcaf45c8 RecordMetadata(topic='test-topic-2', partition=0, topic_partition=TopicPartition(topic='test-topic-2', partition=0), offset=149, timestamp=1694926159891, log_start_offset=0, checksum=None, serialized_key_size=-1, serialized_value_size=184, serialized_header_size=-1)\n",
      "c267ef58-19a0-44f2-a729-d7701818c620 RecordMetadata(topic='test-topic-2', partition=0, topic_partition=TopicPartition(topic='test-topic-2', partition=0), offset=150, timestamp=1694926169907, log_start_offset=0, checksum=None, serialized_key_size=-1, serialized_value_size=187, serialized_header_size=-1)\n",
      "561ebf33-0d47-42b7-ac5f-10a4f6193408 RecordMetadata(topic='test-topic-2', partition=0, topic_partition=TopicPartition(topic='test-topic-2', partition=0), offset=151, timestamp=1694926179917, log_start_offset=0, checksum=None, serialized_key_size=-1, serialized_value_size=186, serialized_header_size=-1)\n",
      "881728f7-78a4-49fd-8131-e08791466d32 RecordMetadata(topic='test-topic-2', partition=0, topic_partition=TopicPartition(topic='test-topic-2', partition=0), offset=152, timestamp=1694926189932, log_start_offset=0, checksum=None, serialized_key_size=-1, serialized_value_size=178, serialized_header_size=-1)\n",
      "8867542d-735d-4fc5-8d90-3cfc79ea9df2 RecordMetadata(topic='test-topic-2', partition=0, topic_partition=TopicPartition(topic='test-topic-2', partition=0), offset=153, timestamp=1694926199942, log_start_offset=0, checksum=None, serialized_key_size=-1, serialized_value_size=180, serialized_header_size=-1)\n",
      "265fa088-48d3-4f84-80b1-86a0c5f09f7d RecordMetadata(topic='test-topic-2', partition=0, topic_partition=TopicPartition(topic='test-topic-2', partition=0), offset=154, timestamp=1694926209975, log_start_offset=0, checksum=None, serialized_key_size=-1, serialized_value_size=190, serialized_header_size=-1)\n",
      "79b6493a-0830-4680-ba20-765bfce5666b RecordMetadata(topic='test-topic-2', partition=0, topic_partition=TopicPartition(topic='test-topic-2', partition=0), offset=155, timestamp=1694926219994, log_start_offset=0, checksum=None, serialized_key_size=-1, serialized_value_size=181, serialized_header_size=-1)\n",
      "beba2638-35c3-4f33-8f04-8dc839e1bb4c RecordMetadata(topic='test-topic-2', partition=0, topic_partition=TopicPartition(topic='test-topic-2', partition=0), offset=156, timestamp=1694926230016, log_start_offset=0, checksum=None, serialized_key_size=-1, serialized_value_size=186, serialized_header_size=-1)\n",
      "90a0afe1-2558-4253-b123-3a1843d79dea RecordMetadata(topic='test-topic-2', partition=0, topic_partition=TopicPartition(topic='test-topic-2', partition=0), offset=157, timestamp=1694926240038, log_start_offset=0, checksum=None, serialized_key_size=-1, serialized_value_size=188, serialized_header_size=-1)\n",
      "270677ca-5ff9-4fe0-868a-daf90b7b14c9 RecordMetadata(topic='test-topic-2', partition=0, topic_partition=TopicPartition(topic='test-topic-2', partition=0), offset=158, timestamp=1694926250057, log_start_offset=0, checksum=None, serialized_key_size=-1, serialized_value_size=181, serialized_header_size=-1)\n",
      "a544efab-d03e-4b86-a95e-f4280ea80035 RecordMetadata(topic='test-topic-2', partition=0, topic_partition=TopicPartition(topic='test-topic-2', partition=0), offset=159, timestamp=1694926260081, log_start_offset=0, checksum=None, serialized_key_size=-1, serialized_value_size=182, serialized_header_size=-1)\n",
      "c11160c7-2ad2-4cef-ab32-3f65443559fc RecordMetadata(topic='test-topic-2', partition=0, topic_partition=TopicPartition(topic='test-topic-2', partition=0), offset=160, timestamp=1694926270095, log_start_offset=0, checksum=None, serialized_key_size=-1, serialized_value_size=181, serialized_header_size=-1)\n",
      "157249b4-657a-46c5-97c0-ba5cbf12cfed RecordMetadata(topic='test-topic-2', partition=0, topic_partition=TopicPartition(topic='test-topic-2', partition=0), offset=161, timestamp=1694926280107, log_start_offset=0, checksum=None, serialized_key_size=-1, serialized_value_size=181, serialized_header_size=-1)\n",
      "87a8a158-5a7f-401d-bdc9-e9b71b59eda6 RecordMetadata(topic='test-topic-2', partition=0, topic_partition=TopicPartition(topic='test-topic-2', partition=0), offset=162, timestamp=1694926290127, log_start_offset=0, checksum=None, serialized_key_size=-1, serialized_value_size=183, serialized_header_size=-1)\n",
      "3fcf8b50-751f-4833-8535-5688daf80825 RecordMetadata(topic='test-topic-2', partition=0, topic_partition=TopicPartition(topic='test-topic-2', partition=0), offset=163, timestamp=1694926300137, log_start_offset=0, checksum=None, serialized_key_size=-1, serialized_value_size=186, serialized_header_size=-1)\n",
      "0c6236d8-d408-48e7-ba4a-057384c68b66 RecordMetadata(topic='test-topic-2', partition=0, topic_partition=TopicPartition(topic='test-topic-2', partition=0), offset=164, timestamp=1694926310155, log_start_offset=0, checksum=None, serialized_key_size=-1, serialized_value_size=184, serialized_header_size=-1)\n",
      "5d8fb363-b8ce-40c0-bc74-595c323f3be5 RecordMetadata(topic='test-topic-2', partition=0, topic_partition=TopicPartition(topic='test-topic-2', partition=0), offset=165, timestamp=1694926320174, log_start_offset=0, checksum=None, serialized_key_size=-1, serialized_value_size=183, serialized_header_size=-1)\n",
      "b156d652-c972-42ac-b503-ba45338f8503 RecordMetadata(topic='test-topic-2', partition=0, topic_partition=TopicPartition(topic='test-topic-2', partition=0), offset=166, timestamp=1694926330190, log_start_offset=0, checksum=None, serialized_key_size=-1, serialized_value_size=182, serialized_header_size=-1)\n",
      "39376280-8846-419c-860c-52850f4146c1 RecordMetadata(topic='test-topic-2', partition=0, topic_partition=TopicPartition(topic='test-topic-2', partition=0), offset=167, timestamp=1694926340208, log_start_offset=0, checksum=None, serialized_key_size=-1, serialized_value_size=187, serialized_header_size=-1)\n",
      "5e68c051-6947-4e7b-99a6-6cbbd200dcf8 RecordMetadata(topic='test-topic-2', partition=0, topic_partition=TopicPartition(topic='test-topic-2', partition=0), offset=168, timestamp=1694926350215, log_start_offset=0, checksum=None, serialized_key_size=-1, serialized_value_size=189, serialized_header_size=-1)\n",
      "6ea16a48-eba0-45f1-b56b-086668c45ab4 RecordMetadata(topic='test-topic-2', partition=0, topic_partition=TopicPartition(topic='test-topic-2', partition=0), offset=169, timestamp=1694926360228, log_start_offset=0, checksum=None, serialized_key_size=-1, serialized_value_size=183, serialized_header_size=-1)\n",
      "6f82cefd-67d3-4bc3-8bd6-f18d635341c3 RecordMetadata(topic='test-topic-2', partition=0, topic_partition=TopicPartition(topic='test-topic-2', partition=0), offset=170, timestamp=1694926370249, log_start_offset=0, checksum=None, serialized_key_size=-1, serialized_value_size=186, serialized_header_size=-1)\n",
      "8e6cc04b-0e59-414d-a3bf-3f734bc7feab RecordMetadata(topic='test-topic-2', partition=0, topic_partition=TopicPartition(topic='test-topic-2', partition=0), offset=171, timestamp=1694926380268, log_start_offset=0, checksum=None, serialized_key_size=-1, serialized_value_size=176, serialized_header_size=-1)\n",
      "bc66bb44-74f2-4975-aeb5-8e9a67d4c38e RecordMetadata(topic='test-topic-2', partition=0, topic_partition=TopicPartition(topic='test-topic-2', partition=0), offset=172, timestamp=1694926390281, log_start_offset=0, checksum=None, serialized_key_size=-1, serialized_value_size=189, serialized_header_size=-1)\n",
      "da6dea99-e1d8-4c2c-aa88-00e1ca72ba60 RecordMetadata(topic='test-topic-2', partition=0, topic_partition=TopicPartition(topic='test-topic-2', partition=0), offset=173, timestamp=1694926400295, log_start_offset=0, checksum=None, serialized_key_size=-1, serialized_value_size=186, serialized_header_size=-1)\n",
      "3a668d56-e235-4545-8aa7-90fe819a6804 RecordMetadata(topic='test-topic-2', partition=0, topic_partition=TopicPartition(topic='test-topic-2', partition=0), offset=174, timestamp=1694926410312, log_start_offset=0, checksum=None, serialized_key_size=-1, serialized_value_size=178, serialized_header_size=-1)\n",
      "7553ea1f-0333-4cd8-97e0-d8aaaa32ee85 RecordMetadata(topic='test-topic-2', partition=0, topic_partition=TopicPartition(topic='test-topic-2', partition=0), offset=175, timestamp=1694926420330, log_start_offset=0, checksum=None, serialized_key_size=-1, serialized_value_size=187, serialized_header_size=-1)\n",
      "2e05be7a-05cf-49df-b79d-ce3151d245cf RecordMetadata(topic='test-topic-2', partition=0, topic_partition=TopicPartition(topic='test-topic-2', partition=0), offset=176, timestamp=1694926430338, log_start_offset=0, checksum=None, serialized_key_size=-1, serialized_value_size=183, serialized_header_size=-1)\n",
      "c5b519e0-8679-470f-a1a1-cc0f283f0467 RecordMetadata(topic='test-topic-2', partition=0, topic_partition=TopicPartition(topic='test-topic-2', partition=0), offset=177, timestamp=1694926440355, log_start_offset=0, checksum=None, serialized_key_size=-1, serialized_value_size=181, serialized_header_size=-1)\n",
      "498b7d39-ced5-4cc1-badc-8406950c1ccb RecordMetadata(topic='test-topic-2', partition=0, topic_partition=TopicPartition(topic='test-topic-2', partition=0), offset=178, timestamp=1694926450368, log_start_offset=0, checksum=None, serialized_key_size=-1, serialized_value_size=187, serialized_header_size=-1)\n",
      "d54b0a4b-54fb-4490-a90b-e5f5cf2e8228 RecordMetadata(topic='test-topic-2', partition=0, topic_partition=TopicPartition(topic='test-topic-2', partition=0), offset=179, timestamp=1694926460388, log_start_offset=0, checksum=None, serialized_key_size=-1, serialized_value_size=181, serialized_header_size=-1)\n",
      "0619d4df-563b-4ed6-9eba-5a0262791600 RecordMetadata(topic='test-topic-2', partition=0, topic_partition=TopicPartition(topic='test-topic-2', partition=0), offset=180, timestamp=1694926470407, log_start_offset=0, checksum=None, serialized_key_size=-1, serialized_value_size=182, serialized_header_size=-1)\n",
      "388132b9-419a-4c50-a66c-af46f52b48d7 RecordMetadata(topic='test-topic-2', partition=0, topic_partition=TopicPartition(topic='test-topic-2', partition=0), offset=181, timestamp=1694926480422, log_start_offset=0, checksum=None, serialized_key_size=-1, serialized_value_size=182, serialized_header_size=-1)\n",
      "8f814a2d-0c02-4c71-9acd-45c40b9f5e1b RecordMetadata(topic='test-topic-2', partition=0, topic_partition=TopicPartition(topic='test-topic-2', partition=0), offset=182, timestamp=1694926490433, log_start_offset=0, checksum=None, serialized_key_size=-1, serialized_value_size=181, serialized_header_size=-1)\n",
      "7f730f01-3dd8-435f-a2ca-41761ef463c5 RecordMetadata(topic='test-topic-2', partition=0, topic_partition=TopicPartition(topic='test-topic-2', partition=0), offset=183, timestamp=1694926500454, log_start_offset=0, checksum=None, serialized_key_size=-1, serialized_value_size=187, serialized_header_size=-1)\n",
      "636f3d72-394b-4370-9d19-025c488cd743 RecordMetadata(topic='test-topic-2', partition=0, topic_partition=TopicPartition(topic='test-topic-2', partition=0), offset=184, timestamp=1694926510472, log_start_offset=0, checksum=None, serialized_key_size=-1, serialized_value_size=182, serialized_header_size=-1)\n",
      "b471c6f7-7bc2-45d2-8378-a738bbd35ea7 RecordMetadata(topic='test-topic-2', partition=0, topic_partition=TopicPartition(topic='test-topic-2', partition=0), offset=185, timestamp=1694926520487, log_start_offset=0, checksum=None, serialized_key_size=-1, serialized_value_size=182, serialized_header_size=-1)\n",
      "cc9c645f-6459-41d6-b918-b242822d5439 RecordMetadata(topic='test-topic-2', partition=0, topic_partition=TopicPartition(topic='test-topic-2', partition=0), offset=186, timestamp=1694926530499, log_start_offset=0, checksum=None, serialized_key_size=-1, serialized_value_size=182, serialized_header_size=-1)\n",
      "265c5230-e58a-48dc-aa5a-8b279dfebe64 RecordMetadata(topic='test-topic-2', partition=0, topic_partition=TopicPartition(topic='test-topic-2', partition=0), offset=187, timestamp=1694926540512, log_start_offset=0, checksum=None, serialized_key_size=-1, serialized_value_size=183, serialized_header_size=-1)\n",
      "c86d9d16-9658-438c-bc2d-0b7233eb63d3 RecordMetadata(topic='test-topic-2', partition=0, topic_partition=TopicPartition(topic='test-topic-2', partition=0), offset=188, timestamp=1694926550530, log_start_offset=0, checksum=None, serialized_key_size=-1, serialized_value_size=191, serialized_header_size=-1)\n",
      "2dabefb4-1752-4ee3-a27d-63dd7725a4f2 RecordMetadata(topic='test-topic-2', partition=0, topic_partition=TopicPartition(topic='test-topic-2', partition=0), offset=189, timestamp=1694926560549, log_start_offset=0, checksum=None, serialized_key_size=-1, serialized_value_size=182, serialized_header_size=-1)\n",
      "8ac32083-757e-4633-a34c-af32fd54bcb0 RecordMetadata(topic='test-topic-2', partition=0, topic_partition=TopicPartition(topic='test-topic-2', partition=0), offset=190, timestamp=1694926570563, log_start_offset=0, checksum=None, serialized_key_size=-1, serialized_value_size=192, serialized_header_size=-1)\n",
      "9a4e2824-f9f7-4cc7-882d-8262003448a9 RecordMetadata(topic='test-topic-2', partition=0, topic_partition=TopicPartition(topic='test-topic-2', partition=0), offset=191, timestamp=1694926580585, log_start_offset=0, checksum=None, serialized_key_size=-1, serialized_value_size=187, serialized_header_size=-1)\n",
      "7ff7db1b-d5b3-4ea6-9393-78d8d3ac4f67 RecordMetadata(topic='test-topic-2', partition=0, topic_partition=TopicPartition(topic='test-topic-2', partition=0), offset=192, timestamp=1694926590601, log_start_offset=0, checksum=None, serialized_key_size=-1, serialized_value_size=185, serialized_header_size=-1)\n",
      "18c2b82a-2f69-4776-899e-abb2f1462dfc RecordMetadata(topic='test-topic-2', partition=0, topic_partition=TopicPartition(topic='test-topic-2', partition=0), offset=193, timestamp=1694926600616, log_start_offset=0, checksum=None, serialized_key_size=-1, serialized_value_size=186, serialized_header_size=-1)\n",
      "26134b4a-3947-46cd-8081-594ee99916bd RecordMetadata(topic='test-topic-2', partition=0, topic_partition=TopicPartition(topic='test-topic-2', partition=0), offset=194, timestamp=1694926610631, log_start_offset=0, checksum=None, serialized_key_size=-1, serialized_value_size=175, serialized_header_size=-1)\n",
      "76543785-f189-4e2b-9320-87241dd961c2 RecordMetadata(topic='test-topic-2', partition=0, topic_partition=TopicPartition(topic='test-topic-2', partition=0), offset=195, timestamp=1694926620650, log_start_offset=0, checksum=None, serialized_key_size=-1, serialized_value_size=182, serialized_header_size=-1)\n",
      "009ac57f-7b26-43a8-b94d-41dcd637c59d RecordMetadata(topic='test-topic-2', partition=0, topic_partition=TopicPartition(topic='test-topic-2', partition=0), offset=196, timestamp=1694926630673, log_start_offset=0, checksum=None, serialized_key_size=-1, serialized_value_size=189, serialized_header_size=-1)\n",
      "c0da883a-dc63-4533-af95-830a0acdf2b9 RecordMetadata(topic='test-topic-2', partition=0, topic_partition=TopicPartition(topic='test-topic-2', partition=0), offset=197, timestamp=1694926640695, log_start_offset=0, checksum=None, serialized_key_size=-1, serialized_value_size=180, serialized_header_size=-1)\n",
      "c2d06a5e-682d-4f9a-8cb6-3f10c52220c2 RecordMetadata(topic='test-topic-2', partition=0, topic_partition=TopicPartition(topic='test-topic-2', partition=0), offset=198, timestamp=1694926650709, log_start_offset=0, checksum=None, serialized_key_size=-1, serialized_value_size=183, serialized_header_size=-1)\n",
      "b6610f7f-7fa0-4601-99a1-2dc24406b416 RecordMetadata(topic='test-topic-2', partition=0, topic_partition=TopicPartition(topic='test-topic-2', partition=0), offset=199, timestamp=1694926660734, log_start_offset=0, checksum=None, serialized_key_size=-1, serialized_value_size=182, serialized_header_size=-1)\n",
      "60001538-a469-4564-a699-a1049b7ce4df RecordMetadata(topic='test-topic-2', partition=0, topic_partition=TopicPartition(topic='test-topic-2', partition=0), offset=200, timestamp=1694926670752, log_start_offset=0, checksum=None, serialized_key_size=-1, serialized_value_size=183, serialized_header_size=-1)\n",
      "2d2e28bc-e219-4564-8a59-83c2c6e356df RecordMetadata(topic='test-topic-2', partition=0, topic_partition=TopicPartition(topic='test-topic-2', partition=0), offset=201, timestamp=1694926680772, log_start_offset=0, checksum=None, serialized_key_size=-1, serialized_value_size=178, serialized_header_size=-1)\n"
     ]
    }
   ],
   "source": [
    "class DataGenerator(object):\n",
    "    @staticmethod\n",
    "    def get_data():\n",
    "        return [\n",
    "                uuid.uuid4().__str__(),\n",
    "                faker.name(),\n",
    "                faker.random_element(elements=('IT', 'HR', 'Sales', 'Marketing')),\n",
    "                faker.random_element(elements=('CA', 'NY', 'TX', 'FL', 'IL', 'RJ')),\n",
    "                faker.random_int(min=10000, max=150000),\n",
    "                faker.random_int(min=18, max=60),\n",
    "                faker.random_int(min=0, max=100000),\n",
    "                faker.unix_time()\n",
    "        ]\n",
    "\n",
    "for i in range(1,400):\n",
    "    columns =  [\"emp_id\", \"employee_name\", \"department\", \"state\", \"salary\", \"age\", \"bonus\", \"ts\", \"new\"]\n",
    "    data_list = DataGenerator.get_data()\n",
    "    json_data = dict(\n",
    "        zip(columns,data_list)\n",
    "    )\n",
    "    _payload = json.dumps(json_data).encode(\"utf-8\")\n",
    "    response = producer.send(topic=kafka_topic_partition, value=_payload)\n",
    "    # response = producer.send(topic=kafka_topic_partition, value=_payload, partition=2)\n",
    "    print(json_data['emp_id'],response.get())\n",
    "    sleep(10)"
   ]
  }
 ],
 "metadata": {
  "kernelspec": {
   "display_name": "Python 3 (ipykernel)",
   "language": "python",
   "name": "python3"
  },
  "language_info": {
   "codemirror_mode": {
    "name": "ipython",
    "version": 3
   },
   "file_extension": ".py",
   "mimetype": "text/x-python",
   "name": "python",
   "nbconvert_exporter": "python",
   "pygments_lexer": "ipython3",
   "version": "3.10.10"
  }
 },
 "nbformat": 4,
 "nbformat_minor": 5
}
